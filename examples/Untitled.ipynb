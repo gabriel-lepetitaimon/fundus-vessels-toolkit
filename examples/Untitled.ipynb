{
 "cells": [
  {
   "cell_type": "code",
   "execution_count": 1,
   "id": "b4c52024-4418-4adc-ae7c-9502f9f17ac6",
   "metadata": {},
   "outputs": [],
   "source": [
    "%load_ext autoreload\n",
    "%autoreload 2"
   ]
  },
  {
   "cell_type": "code",
   "execution_count": 2,
   "id": "848626cc-42e1-41f7-8cbf-90c2ef782494",
   "metadata": {},
   "outputs": [],
   "source": [
    "import os\n",
    "\n",
    "RAW_PATH = \"/home/gaby/These/Data/Fundus/Vessels/FIVES/train/downsampled-1024/1-images/\"\n",
    "VESSELS_PATH = \"/home/gaby/These/Data/Fundus/Vessels/FIVES/train/downsampled-1024/2-vessels/\"\n",
    "MASK_PATH = \"/home/gaby/These/Data/Fundus/Vessels/FIVES/train/downsampled-1024/mask/\"\n",
    "\n",
    "raw_files = {f[:-4] for f in os.listdir(RAW_PATH) if f.endswith('.jpg')}\n",
    "seg_files = {f[:-4] for f in os.listdir(RAW_PATH) if f.endswith('.png')}\n",
    "msk_files = {f[:-4] for f in os.listdir(MASK_PATH) if f.endswith('.png')}\n",
    "\n",
    "files = list(raw_files.union(seg_files).union(msk_files))[:8]\n",
    "raw_paths = [RAW_PATH+f+'.jpg' for f in files]\n",
    "seg_paths = [VESSELS_PATH+f+'.png' for f in files]\n",
    "mask_paths = [MASK_PATH+f+'.png' for f in files]"
   ]
  },
  {
   "cell_type": "code",
   "execution_count": 3,
   "id": "e9ed21f6-e984-4e57-91b2-8e52f2813b27",
   "metadata": {},
   "outputs": [
    {
     "data": {
      "text/plain": [
       "['504_N', '434_G', '365_G', '101_A', '449_G', '266_D', '420_G', '385_G']"
      ]
     },
     "execution_count": 3,
     "metadata": {},
     "output_type": "execute_result"
    }
   ],
   "source": [
    "files"
   ]
  },
  {
   "cell_type": "code",
   "execution_count": 4,
   "id": "c37a170a-2442-4838-91e4-96f3c85082da",
   "metadata": {},
   "outputs": [],
   "source": [
    "import cv2\n",
    "import torch\n",
    "import numpy as np\n",
    "from steered_cnn.utils.torch import crop_pad \n",
    "from jppype import imshow\n",
    "\n",
    "def load_imgs(path, binarize=False):\n",
    "    img = np.stack([cv2.imread(p) for p in path]).transpose((0,3,1,2))\n",
    "    img = img.astype(np.float32)/255\n",
    "    img = torch.from_numpy(img)\n",
    "    return img.mean(axis=1)>.5 if binarize else img\n",
    "\n",
    "raw = load_imgs(raw_paths)\n",
    "true_vessels = load_imgs(seg_paths, binarize=True)\n",
    "masks = load_imgs(mask_paths, binarize=True)"
   ]
  },
  {
   "cell_type": "code",
   "execution_count": 5,
   "id": "ac62e1ef-5989-4290-adf1-3d4686154849",
   "metadata": {},
   "outputs": [],
   "source": [
    "from fundus_vessels_toolkit.models import segmentation_model\n",
    "nnet = segmentation_model().cuda()\n",
    "pred_vessels = nnet(raw[:4].cuda())"
   ]
  },
  {
   "cell_type": "code",
   "execution_count": 6,
   "id": "ab27eaca-2e1f-4e51-b116-5b0c43bbc035",
   "metadata": {},
   "outputs": [],
   "source": [
    "from fundus_vessels_toolkit.metrics import CfgSumClDiceF1Topo"
   ]
  },
  {
   "cell_type": "code",
   "execution_count": 7,
   "id": "300b4c43-c4ff-412d-a9f7-04f60d258385",
   "metadata": {},
   "outputs": [],
   "source": [
    "cfgMetrics = CfgSumClDiceF1Topo(data={'max_struct_width': 12})\n",
    "metric = cfgMetrics.create()"
   ]
  },
  {
   "cell_type": "code",
   "execution_count": 11,
   "id": "4d2ad463-3a13-4294-88d3-0a61a42a41aa",
   "metadata": {},
   "outputs": [
    {
     "data": {
      "text/plain": [
       "tensor(0.8097)"
      ]
     },
     "execution_count": 11,
     "metadata": {},
     "output_type": "execute_result"
    }
   ],
   "source": [
    "metric(*cfgMetrics.prepare_data(pred_vessels[:4,1]>.5*masks[:4].cuda(), true_vessels[:4].cuda()*masks[:4].cuda()))"
   ]
  },
  {
   "cell_type": "code",
   "execution_count": null,
   "id": "a024a529-86ea-420b-93f4-b246970b62bd",
   "metadata": {},
   "outputs": [],
   "source": [
    "v = imshow(raw[0]*255)\n",
    "v.add_label(pred_vessels[0][1]>.5)\n",
    "v"
   ]
  },
  {
   "cell_type": "code",
   "execution_count": null,
   "id": "8ffaf676-0626-4e21-b137-0a9bbef03301",
   "metadata": {},
   "outputs": [],
   "source": []
  },
  {
   "cell_type": "code",
   "execution_count": null,
   "id": "19053218-ab15-4b03-b9d4-27a1e5255c7a",
   "metadata": {},
   "outputs": [],
   "source": []
  }
 ],
 "metadata": {
  "kernelspec": {
   "display_name": "Python 3 (ipykernel)",
   "language": "python",
   "name": "python3"
  },
  "language_info": {
   "codemirror_mode": {
    "name": "ipython",
    "version": 3
   },
   "file_extension": ".py",
   "mimetype": "text/x-python",
   "name": "python",
   "nbconvert_exporter": "python",
   "pygments_lexer": "ipython3",
   "version": "3.10.11"
  }
 },
 "nbformat": 4,
 "nbformat_minor": 5
}
