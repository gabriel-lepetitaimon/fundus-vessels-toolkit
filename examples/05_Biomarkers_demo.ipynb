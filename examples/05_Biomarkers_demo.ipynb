{
 "cells": [
  {
   "cell_type": "markdown",
   "metadata": {},
   "source": [
    "#### Initialize"
   ]
  },
  {
   "cell_type": "code",
   "execution_count": null,
   "metadata": {},
   "outputs": [],
   "source": [
    "from pathlib import Path\n",
    "\n",
    "import maples_dr\n",
    "import numpy as np\n",
    "import pandas as pd\n",
    "from jppype import Mosaic, vscode_theme\n",
    "\n",
    "from fundus_vessels_toolkit import AVLabel, FundusData\n",
    "from fundus_vessels_toolkit.pipelines import FundusAVSegToBiomarkers\n",
    "from fundus_vessels_toolkit.pipelines.avseg_to_tree import AVSegToTree, NaiveAVSegToTree\n",
    "from fundus_vessels_toolkit.vparameters import parametrize_bifurcations\n",
    "\n",
    "vscode_theme()"
   ]
  },
  {
   "cell_type": "code",
   "execution_count": null,
   "metadata": {},
   "outputs": [],
   "source": [
    "maples_dr.configure(messidor_path=\"/home/gaby/These/Data/Fundus/MESSIDOR/\", image_format=\"rgb\")\n",
    "dataset = maples_dr.load_dataset()"
   ]
  },
  {
   "cell_type": "code",
   "execution_count": null,
   "metadata": {},
   "outputs": [],
   "source": [
    "GRAPH_AV_COLORS = {\n",
    "    AVLabel.BKG: \"grey\",\n",
    "    AVLabel.ART: \"red\",\n",
    "    AVLabel.VEI: \"blue\",\n",
    "    AVLabel.BOTH: \"purple\",\n",
    "    AVLabel.UNK: \"green\",\n",
    "}"
   ]
  },
  {
   "cell_type": "code",
   "execution_count": null,
   "metadata": {},
   "outputs": [],
   "source": [
    "av2tree = AVSegToTree()\n",
    "naive_av2tree = NaiveAVSegToTree()\n",
    "av2biomarkers = AVSegToTree()"
   ]
  },
  {
   "cell_type": "markdown",
   "metadata": {},
   "source": [
    "#### Load image"
   ]
  },
  {
   "cell_type": "code",
   "execution_count": null,
   "metadata": {},
   "outputs": [],
   "source": [
    "IMG = Path(\"20060523_49681_0100_PP.png\")  # GOOD\n",
    "PRED_PATH = Path(\"/home/gaby/These/src/Fundus/RelatedWorks/AutoMorph/Results/M2/artery_vein/raw\")\n",
    "GT_PATH = Path(\"/home/gaby/These/Data/Fundus/MAPLES-DR/AV_reviewed/\")\n",
    "\n",
    "AV_PRED = PRED_PATH / IMG.name\n",
    "sample = dataset[IMG.stem]\n",
    "fundus = FundusData(\n",
    "    fundus=sample[\"fundus\"],\n",
    "    fundus_mask=sample[\"mask\"],\n",
    "    od=sample[\"opticDisc\"],\n",
    "    vessels=AV_PRED,\n",
    "    macula=sample[\"macula\"],\n",
    ")\n",
    "\n",
    "av_gt = FundusData.load_vessels(GT_PATH / IMG.name)\n",
    "v, a = av_gt == AVLabel.ART, av_gt == AVLabel.VEI\n",
    "av_gt[a] = AVLabel.ART\n",
    "av_gt[v] = AVLabel.VEI\n",
    "\n",
    "fundus_gt = FundusData(\n",
    "    fundus=sample[\"fundus\"],\n",
    "    fundus_mask=sample[\"mask\"],\n",
    "    od=sample[\"opticDisc\"],\n",
    "    vessels=av_gt,\n",
    "    macula=sample[\"macula\"],\n",
    ")"
   ]
  },
  {
   "cell_type": "markdown",
   "metadata": {},
   "source": [
    "## Extract Vascular Graph"
   ]
  },
  {
   "cell_type": "code",
   "execution_count": null,
   "metadata": {},
   "outputs": [],
   "source": [
    "av_graph = av2tree.to_vgraph(fundus)\n",
    "\n",
    "m = Mosaic(2, cols_titles=[\"Ground Truth\", \"IA Segmentation\"])\n",
    "fundus_gt.draw(view=m[0], labels_opacity=0.8)\n",
    "fundus.draw(view=m[1], labels_opacity=0.8)\n",
    "\n",
    "\n",
    "# m[1][\"graph\"] = av_graph.jppype_layer(bspline=True, node_labels=False)\n",
    "# m[1][\"tangents\"] = av_graph.geometric_data().jppype_branches_tips_tangents(scaling=10)\n",
    "\n",
    "m.show()"
   ]
  },
  {
   "cell_type": "markdown",
   "metadata": {},
   "source": [
    "## Optimize Sub-Trees"
   ]
  },
  {
   "cell_type": "code",
   "execution_count": null,
   "metadata": {},
   "outputs": [],
   "source": [
    "lines_digraph_info = av2tree.build_line_digraph(av_graph, fundus)\n",
    "opti_tree = av2tree.resolve_digraph_to_vtree(*lines_digraph_info)\n",
    "a_tree, v_tree = av2tree.split_av_tree(opti_tree)"
   ]
  },
  {
   "cell_type": "code",
   "execution_count": null,
   "metadata": {},
   "outputs": [],
   "source": [
    "naive_a_tree, naive_v_tree = naive_av2tree(fundus)"
   ]
  },
  {
   "cell_type": "code",
   "execution_count": null,
   "metadata": {},
   "outputs": [],
   "source": [
    "def colorize_tree(tree, art, layer):\n",
    "    import webcolors\n",
    "\n",
    "    if art:\n",
    "        root_color = \"#7a1a1a\"\n",
    "        color0 = np.array(webcolors.hex_to_rgb(\"#ff0000\"))\n",
    "        leaf_color = \"#da7676\"\n",
    "        color_max = np.array(webcolors.hex_to_rgb(\"#ff7a7a\"))\n",
    "        label = AVLabel.ART\n",
    "    else:\n",
    "        root_color = \"#1a1a7a\"\n",
    "        color0 = np.array(webcolors.hex_to_rgb(\"#0000ff\"))\n",
    "        leaf_color = \"#7676da\"\n",
    "        color_max = np.array(webcolors.hex_to_rgb(\"#7a7aff\"))\n",
    "        label = AVLabel.VEI\n",
    "    main_color = GRAPH_AV_COLORS[label]\n",
    "    nodes_color = pd.Series(main_color, index=tree.nodes_attr.index)\n",
    "    nodes_color[tree.root_nodes_ids()] = root_color\n",
    "    nodes_color[tree.leaf_nodes_ids()] = leaf_color\n",
    "    layer.nodes_cmap = nodes_color.to_dict()\n",
    "\n",
    "    if \"rank\" in tree.nodes_attr:\n",
    "        MAX_RANK = 4\n",
    "        edge_gradient = np.linspace(color0, color_max, MAX_RANK, endpoint=True).astype(int)\n",
    "        edges_rank = tree.nodes_attr[\"rank\"][tree.branch_head()].clip(1, MAX_RANK) - 1\n",
    "        layer.edges_cmap = [webcolors.rgb_to_hex(tuple(edge_gradient[x])) for x in edges_rank]\n",
    "    else:\n",
    "        layer.edges_cmap = main_color\n",
    "\n",
    "\n",
    "def colorize_subtrees(tree, layer, color_shift=0):\n",
    "    def colormap(x):\n",
    "        cmap = [\"red\", \"blue\", \"purple\", \"green\", \"orange\", \"cyan\", \"pink\", \"yellow\", \"teal\", \"lime\"]\n",
    "        return cmap[(x + color_shift) % len(cmap)]\n",
    "\n",
    "    RANK_COLOR_MAP = {\n",
    "        -1: \"#f9ecdd\",\n",
    "        0: \"#3a37ff\",\n",
    "        1: \"#6f00ff\",\n",
    "        2: \"#f36bd6\",\n",
    "        3: \"#ff8282\",\n",
    "        4: \"#ff9f79\",\n",
    "        5: \"#ffcc92\",\n",
    "        6: \"#ebe7b3\",\n",
    "        7: \"#f9ecdd\",\n",
    "    }\n",
    "    layer.edges_cmap = pd.Series(tree.subtrees_branch_labels()).map(colormap).to_dict()\n",
    "    node_rank = tree.nodes_attr[\"rank\"].map(RANK_COLOR_MAP).to_dict()\n",
    "    for node in tree.leaf_nodes_ids():\n",
    "        node_rank[node] = \"white\"\n",
    "    for node in tree.root_nodes_ids():\n",
    "        node_rank[node] = \"black\"\n",
    "    layer.nodes_cmap = node_rank\n",
    "\n",
    "\n",
    "parametrize_bifurcations(a_tree)\n",
    "parametrize_bifurcations(v_tree)\n",
    "\n",
    "m = Mosaic(3, cols_titles=[\"Naive Tree\", \"Optimized Tree\", \"Subtrees\"])\n",
    "fundus_gt.draw(view=m, labels_opacity=0.2)\n",
    "\n",
    "m[0][\"a_tree\"] = naive_a_tree.jppype_layer(bspline=True)\n",
    "m[0][\"v_tree\"] = naive_v_tree.jppype_layer(bspline=True)\n",
    "colorize_tree(naive_a_tree, True, m[0][\"a_tree\"])\n",
    "colorize_tree(naive_v_tree, False, m[0][\"v_tree\"])\n",
    "\n",
    "m[1][\"a_tree\"] = a_tree.jppype_layer(bspline=True)\n",
    "m[1][\"v_tree\"] = v_tree.jppype_layer(bspline=True)\n",
    "colorize_tree(a_tree, True, m[1][\"a_tree\"])\n",
    "colorize_tree(v_tree, False, m[1][\"v_tree\"])\n",
    "\n",
    "m[2][\"a_tree\"] = a_tree.jppype_layer(bspline=True)\n",
    "m[2][\"v_tree\"] = v_tree.jppype_layer(bspline=True)\n",
    "colorize_subtrees(a_tree, m[2][\"a_tree\"])\n",
    "colorize_subtrees(v_tree, m[2][\"v_tree\"], color_shift=len(a_tree.subtrees()))\n",
    "\n",
    "m.show()"
   ]
  },
  {
   "cell_type": "markdown",
   "metadata": {},
   "source": [
    "## Generate biomarkers"
   ]
  },
  {
   "cell_type": "code",
   "execution_count": null,
   "metadata": {},
   "outputs": [],
   "source": [
    "av2biomarkers = FundusAVSegToBiomarkers(av2tree)"
   ]
  },
  {
   "cell_type": "code",
   "execution_count": null,
   "metadata": {},
   "outputs": [],
   "source": [
    "widgets, trees, data = av2biomarkers.inspect_bifurcations(fundus, label_branches=True)\n",
    "widgets"
   ]
  },
  {
   "cell_type": "code",
   "execution_count": null,
   "metadata": {},
   "outputs": [],
   "source": [
    "widgets, trees, data = av2biomarkers.inspect_branches(fundus)\n",
    "widgets"
   ]
  }
 ],
 "metadata": {
  "kernelspec": {
   "display_name": "nnet",
   "language": "python",
   "name": "python3"
  },
  "language_info": {
   "codemirror_mode": {
    "name": "ipython",
    "version": 3
   },
   "file_extension": ".py",
   "mimetype": "text/x-python",
   "name": "python",
   "nbconvert_exporter": "python",
   "pygments_lexer": "ipython3",
   "version": "3.12.4"
  }
 },
 "nbformat": 4,
 "nbformat_minor": 2
}
