{
 "cells": [
  {
   "cell_type": "code",
   "execution_count": null,
   "id": "1cc782e3-782f-44d3-9f43-41552536f45f",
   "metadata": {},
   "outputs": [],
   "source": [
    "from pathlib import Path\n",
    "\n",
    "import maples_dr\n",
    "from jppype import vscode_theme\n",
    "\n",
    "from fundus_vessels_toolkit import FundusData\n",
    "from fundus_vessels_toolkit.pipelines import FundusAVSegToBiomarkers\n",
    "\n",
    "vscode_theme()"
   ]
  },
  {
   "cell_type": "code",
   "execution_count": null,
   "id": "9b2cb36d",
   "metadata": {},
   "outputs": [],
   "source": [
    "maples_dr.configure(messidor_path=\"/home/gaby/These/Data/Fundus/MESSIDOR/\", image_format=\"rgb\")\n",
    "dataset = maples_dr.load_dataset()"
   ]
  },
  {
   "cell_type": "code",
   "execution_count": null,
   "id": "394a038d-0b45-41b8-b6cf-ca58a434253f",
   "metadata": {},
   "outputs": [],
   "source": [
    "IMG = \"20060412_60751_0200_PP.png\"\n",
    "\n",
    "PATH = Path(\"../../../Fundus/RelatedWorks/AutoMorph/\")\n",
    "\n",
    "\n",
    "# Path to the raw fundus image\n",
    "RAW_PATH = PATH / \"images\" / IMG\n",
    "\n",
    "# Path to the OD segmentation\n",
    "OD_PATH = PATH / \"Results/M2/optic_disc_cup/raw\" / IMG\n",
    "\n",
    "# Path to the artery/vein segmentation\n",
    "AV_PATH = PATH / \"Results/M2/artery_vein/raw\" / IMG\n",
    "\n",
    "fundus = FundusData(fundus=RAW_PATH, od=OD_PATH, vessels=AV_PATH, macula=dataset[IMG[:-4]][\"macula\"])\n",
    "v = fundus.draw()\n",
    "v"
   ]
  },
  {
   "cell_type": "code",
   "execution_count": null,
   "id": "6fb819b3-6403-4b93-8a71-25376dd6e4ec",
   "metadata": {
    "scrolled": true
   },
   "outputs": [],
   "source": [
    "from fundus_vessels_toolkit.pipelines.avseg_to_tree import AVSegToTree\n",
    "\n",
    "av2tree = AVSegToTree()\n",
    "av2biomarkers = FundusAVSegToBiomarkers(av2tree)\n",
    "\n",
    "bio = av2biomarkers(fundus)"
   ]
  },
  {
   "cell_type": "code",
   "execution_count": null,
   "id": "4c061620-6841-4169-bfcc-43334d130702",
   "metadata": {},
   "outputs": [],
   "source": [
    "# Visualization\n",
    "widgets, trees, data = av2biomarkers.inspect_bifurcations(fundus, label_branches=True)\n",
    "widgets"
   ]
  },
  {
   "cell_type": "code",
   "execution_count": null,
   "id": "b0f5866f-1f2f-453a-ad14-338f79e041cc",
   "metadata": {},
   "outputs": [],
   "source": [
    "widgets, trees, data = av2biomarkers.inspect_branches(fundus)\n",
    "widgets"
   ]
  }
 ],
 "metadata": {
  "kernelspec": {
   "display_name": "nnet",
   "language": "python",
   "name": "python3"
  },
  "language_info": {
   "codemirror_mode": {
    "name": "ipython",
    "version": 3
   },
   "file_extension": ".py",
   "mimetype": "text/x-python",
   "name": "python",
   "nbconvert_exporter": "python",
   "pygments_lexer": "ipython3",
   "version": "3.12.4"
  }
 },
 "nbformat": 4,
 "nbformat_minor": 5
}
