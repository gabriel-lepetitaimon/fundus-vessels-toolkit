{
 "cells": [
  {
   "cell_type": "code",
   "execution_count": 1,
   "id": "bcd8f665-6446-4e1e-8f6a-f182d4f80014",
   "metadata": {},
   "outputs": [],
   "source": [
    "%load_ext autoreload\n",
    "%autoreload 2"
   ]
  },
  {
   "cell_type": "code",
   "execution_count": null,
   "id": "1cc782e3-782f-44d3-9f43-41552536f45f",
   "metadata": {},
   "outputs": [],
   "source": [
    "from pathlib import Path\n",
    "\n",
    "from jppype import Mosaic, vscode_theme\n",
    "\n",
    "from fundus_vessels_toolkit import FundusData\n",
    "from fundus_vessels_toolkit.pipelines import FundusAVSegToBiomarkers\n",
    "\n",
    "vscode_theme()"
   ]
  },
  {
   "cell_type": "code",
   "execution_count": null,
   "id": "394a038d-0b45-41b8-b6cf-ca58a434253f",
   "metadata": {},
   "outputs": [],
   "source": [
    "IMG = \"69017979_retinal_right\"\n",
    "\n",
    "IMG_DIR = Path(\"/home/gabriel/ISBI/Automorph_previous_results/Results_BL_SUBSET2/M1/Good_quality\")\n",
    "PATH_SEG = Path(\"/home/gabriel/ISBI/Automorph_previous_results/Results_BL_SUBSET2/\")\n",
    "\n",
    "# Path to the raw fundus image\n",
    "RAW_PATH = IMG_DIR / (IMG + \".png\")\n",
    "\n",
    "# Path to the OD segmentation\n",
    "OD_PATH = PATH_SEG / \"M2/optic_disc_cup/raw\" / (IMG + \".png\")\n",
    "\n",
    "# Path to the artery/vein segmentation\n",
    "AV_PATH = PATH_SEG / \"M2/artery_vein/raw\" / (IMG + \".png\")\n",
    "\n",
    "fundus = FundusData(fundus=RAW_PATH, od=OD_PATH, vessels=AV_PATH)\n",
    "v = fundus.draw()\n",
    "v"
   ]
  },
  {
   "cell_type": "code",
   "execution_count": 8,
   "id": "6fb819b3-6403-4b93-8a71-25376dd6e4ec",
   "metadata": {
    "scrolled": true
   },
   "outputs": [],
   "source": [
    "from fundus_vessels_toolkit.pipelines.avseg_to_tree import NaiveAVSegToTree\n",
    "\n",
    "naive = NaiveAVSegToTree()\n",
    "av2biomarkers = FundusAVSegToBiomarkers(naive)\n",
    "\n",
    "bio = av2biomarkers(fundus)"
   ]
  },
  {
   "cell_type": "code",
   "execution_count": null,
   "id": "4c061620-6841-4169-bfcc-43334d130702",
   "metadata": {},
   "outputs": [],
   "source": [
    "# Visualization\n",
    "widgets, trees, data = av2biomarkers.inspect_bifurcations(fundus, label_branches=True)\n",
    "widgets"
   ]
  },
  {
   "cell_type": "code",
   "execution_count": null,
   "id": "b0f5866f-1f2f-453a-ad14-338f79e041cc",
   "metadata": {},
   "outputs": [],
   "source": [
    "widgets, trees, data = av2biomarkers.inspect_branches(fundus)\n",
    "widgets"
   ]
  }
 ],
 "metadata": {
  "kernelspec": {
   "display_name": "ML",
   "language": "python",
   "name": "python3"
  },
  "language_info": {
   "codemirror_mode": {
    "name": "ipython",
    "version": 3
   },
   "file_extension": ".py",
   "mimetype": "text/x-python",
   "name": "python",
   "nbconvert_exporter": "python",
   "pygments_lexer": "ipython3",
   "version": "3.12.5"
  }
 },
 "nbformat": 4,
 "nbformat_minor": 5
}
