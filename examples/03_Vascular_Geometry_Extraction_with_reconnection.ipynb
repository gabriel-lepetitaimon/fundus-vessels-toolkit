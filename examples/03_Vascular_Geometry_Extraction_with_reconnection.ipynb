{
 "cells": [
  {
   "cell_type": "code",
   "execution_count": 1,
   "metadata": {},
   "outputs": [],
   "source": [
    "%load_ext autoreload\n",
    "%autoreload 2"
   ]
  },
  {
   "cell_type": "code",
   "execution_count": 2,
   "metadata": {},
   "outputs": [
    {
     "data": {
      "application/vnd.jupyter.widget-view+json": {
       "model_id": "65162b2664bf4cdab3443738b08a101b",
       "version_major": 2,
       "version_minor": 0
      },
      "text/plain": [
       "HTML(value=\"<style>\\n        .cell-output-ipywidget-background {\\n                background: transparent !imp…"
      ]
     },
     "metadata": {},
     "output_type": "display_data"
    }
   ],
   "source": [
    "from jppype import Mosaic, vscode_theme\n",
    "\n",
    "from fundus_vessels_toolkit.pipelines import FundusVesselSegToGraph\n",
    "from fundus_vessels_toolkit.segment import clear_gpu_cache, segment_vessels\n",
    "from fundus_vessels_toolkit.segment_to_graph import populate_geometry\n",
    "from fundus_vessels_toolkit.utils.data_io import load_image\n",
    "\n",
    "vscode_theme()"
   ]
  },
  {
   "cell_type": "markdown",
   "metadata": {},
   "source": [
    "#### Load image"
   ]
  },
  {
   "cell_type": "code",
   "execution_count": 3,
   "metadata": {},
   "outputs": [],
   "source": [
    "# Path to the raw fundus image\n",
    "RAW_PATH = \"/home/gaby/These/Data/Fundus/Vessels/FIVES/test/downsampled-1024/1-images/103_G.jpg\"\n",
    "\n",
    "# Load the raw image\n",
    "raw = load_image(RAW_PATH)\n",
    "\n",
    "# Segment the vessels\n",
    "vessels = segment_vessels(raw)\n",
    "\n",
    "# Clear the GPU cache\n",
    "clear_gpu_cache()"
   ]
  },
  {
   "cell_type": "markdown",
   "metadata": {},
   "source": [
    "#### Parse the vascular graph AND its geometry"
   ]
  },
  {
   "cell_type": "code",
   "execution_count": 4,
   "metadata": {},
   "outputs": [],
   "source": [
    "max_vessel_diameter = raw.shape[1] // 50\n",
    "seg2graph = FundusVesselSegToGraph(max_vessel_diameter, parse_geometry=True)\n",
    "# seg2graph.simplify_topology = None\n",
    "graph = seg2graph(vessels)"
   ]
  },
  {
   "cell_type": "markdown",
   "metadata": {},
   "source": [
    "#### Display the graph"
   ]
  },
  {
   "cell_type": "code",
   "execution_count": 5,
   "metadata": {},
   "outputs": [
    {
     "data": {
      "application/vnd.jupyter.widget-view+json": {
       "model_id": "e6d15ceb626a4eae8a949fd4e65ffb46",
       "version_major": 2,
       "version_minor": 0
      },
      "text/plain": [
       "GridBox(children=(HTML(value='<h3 style=\"text-align: center;\">Topology</h3>'), HTML(value='<h3 style=\"text-ali…"
      ]
     },
     "metadata": {},
     "output_type": "display_data"
    }
   ],
   "source": [
    "mosaic = Mosaic(3, raw, cell_height=800, cols_titles=[\"Topology\", \"Cleaned Skeleton\", \"BSplines\"])\n",
    "mosaic.add_label(vessels, \"vessel\", opacity=0.3)\n",
    "\n",
    "mosaic[0][\"vgraph\"] = graph.jppype_layer(node_labels=True)\n",
    "mosaic[1][\"vgraph\"] = graph.jppype_layer(edge_map=True, edge_labels=True, boundaries=True)\n",
    "mosaic[2][\"vgraph\"] = graph.jppype_layer(bspline=True, edge_labels=True)\n",
    "mosaic[2][\"bsplines_nodes\"] = graph.geometric_data().jppype_bspline_tangents(scaling=0.4)\n",
    "\n",
    "mosaic.show()"
   ]
  },
  {
   "cell_type": "code",
   "execution_count": 6,
   "metadata": {},
   "outputs": [],
   "source": [
    "from fundus_vessels_toolkit.segment_to_graph.graph_simplification import reconnect_endpoints\n",
    "\n",
    "graph2 = reconnect_endpoints(graph, intercept_snapping_distance=20, inplace=False)"
   ]
  },
  {
   "cell_type": "code",
   "execution_count": 7,
   "metadata": {},
   "outputs": [
    {
     "data": {
      "application/vnd.jupyter.widget-view+json": {
       "model_id": "81570c43f60b434885510e0d53f095a7",
       "version_major": 2,
       "version_minor": 0
      },
      "text/plain": [
       "GridBox(children=(View2D(linkedTransformGroup='a3395ff1d17540cb9b50b508607fe5b0'), View2D(linkedTransformGroup…"
      ]
     },
     "metadata": {},
     "output_type": "display_data"
    }
   ],
   "source": [
    "from jppype.utils.color import colormap_by_name\n",
    "\n",
    "mosaic = Mosaic(2, raw, cell_height=800)\n",
    "mosaic.add_label(vessels, \"vessel\", opacity=0.3)\n",
    "\n",
    "mosaic[0][\"vgraph\"] = graph.jppype_layer(bspline=True, edge_labels=True, node_labels=True)\n",
    "mosaic[0][\"tangent\"] = graph.geometric_data().jppype_bspline_tangents(scaling=1)\n",
    "mosaic[0][\"vgraph\"].nodes_cmap = \"grey\"\n",
    "mosaic[0][\"vgraph\"].edges_cmap = \"grey\"\n",
    "mosaic[1][\"vgraph\"] = graph2.jppype_layer(bspline=True, edge_labels=True, node_labels=True)\n",
    "mosaic[1][\"vgraph\"].nodes_cmap = {k: \"grey\" for k in range(graph.nodes_count)} | {None: colormap_by_name()}\n",
    "mosaic[1][\"vgraph\"].edges_cmap = {k: \"grey\" for k in range(graph.branches_count)} | {None: colormap_by_name()}\n",
    "\n",
    "mosaic.show()"
   ]
  },
  {
   "cell_type": "code",
   "execution_count": 8,
   "metadata": {},
   "outputs": [
    {
     "data": {
      "text/plain": [
       "array([74,  3])"
      ]
     },
     "execution_count": 8,
     "metadata": {},
     "output_type": "execute_result"
    }
   ],
   "source": [
    "graph2.branch_list[70]"
   ]
  },
  {
   "cell_type": "markdown",
   "metadata": {},
   "source": [
    "### Access geometrical data"
   ]
  },
  {
   "cell_type": "markdown",
   "metadata": {},
   "source": [
    "The geometrical representations of vascular graphs are stored in ``VGeometricData`` objects. Usually ``VGraph``  are linked to a single ``VGeometricData`` object, but actually it may be linked to more than one when several geometrical versions of the same graph are available (e.g. different image of the same patient registered together). In any case, the geometrical data can be accessed through the ``VGraph`` objects by calling the ``geometric_data()`` method (with an optional id).\n",
    "\n",
    "``VGeometricData`` object are only containers and only provide method to access the geometrical data, they also ensure that the data stay coherent when the graph is modified (e.g. when calling``graph.delete_nodes()``, ``VGraph.reindex_branches()``, ``VGraph.merge_nodes()``, ``VGraph.split_branches()``, etc). \n",
    "\n",
    "However they don't provide tools to generate the geometrical data. This is done by the ``fundus_vessels_toolkit.segment_to_graph.geometry_parsing.populate_geometry()`` method or by enabling the ``parse_geometry`` option in the ``FundusVesselSegToGraph`` pipelines."
   ]
  },
  {
   "cell_type": "code",
   "execution_count": 9,
   "metadata": {},
   "outputs": [
    {
     "data": {
      "text/plain": [
       "['TIPS_TANGENT',\n",
       " 'TIPS_CALIBRE',\n",
       " 'TIPS_BOUNDARIES',\n",
       " 'TANGENTS',\n",
       " 'BSPLINE',\n",
       " 'CALIBRES',\n",
       " 'BOUNDARIES',\n",
       " 'CURVATURES',\n",
       " 'CURVATURE_ROOTS']"
      ]
     },
     "execution_count": 9,
     "metadata": {},
     "output_type": "execute_result"
    }
   ],
   "source": [
    "geo_data = graph.geometric_data()\n",
    "list(geo_data.branch_data().keys())"
   ]
  },
  {
   "cell_type": "markdown",
   "metadata": {},
   "source": [
    "#### Extract bifurcation infos"
   ]
  },
  {
   "cell_type": "code",
   "execution_count": 10,
   "metadata": {},
   "outputs": [
    {
     "data": {
      "text/html": [
       "<div>\n",
       "<style scoped>\n",
       "    .dataframe tbody tr th:only-of-type {\n",
       "        vertical-align: middle;\n",
       "    }\n",
       "\n",
       "    .dataframe tbody tr th {\n",
       "        vertical-align: top;\n",
       "    }\n",
       "\n",
       "    .dataframe thead th {\n",
       "        text-align: right;\n",
       "    }\n",
       "</style>\n",
       "<table border=\"1\" class=\"dataframe\">\n",
       "  <thead>\n",
       "    <tr style=\"text-align: right;\">\n",
       "      <th></th>\n",
       "      <th>b0</th>\n",
       "      <th>b1</th>\n",
       "      <th>b2</th>\n",
       "      <th>θ1</th>\n",
       "      <th>θ2</th>\n",
       "      <th>d0</th>\n",
       "      <th>d1</th>\n",
       "      <th>d2</th>\n",
       "    </tr>\n",
       "    <tr>\n",
       "      <th>nodeID</th>\n",
       "      <th></th>\n",
       "      <th></th>\n",
       "      <th></th>\n",
       "      <th></th>\n",
       "      <th></th>\n",
       "      <th></th>\n",
       "      <th></th>\n",
       "      <th></th>\n",
       "    </tr>\n",
       "  </thead>\n",
       "  <tbody>\n",
       "    <tr>\n",
       "      <th>3</th>\n",
       "      <td>54</td>\n",
       "      <td>30</td>\n",
       "      <td>31</td>\n",
       "      <td>14.437885</td>\n",
       "      <td>60.251446</td>\n",
       "      <td>11.284188</td>\n",
       "      <td>10.105234</td>\n",
       "      <td>2.151480</td>\n",
       "    </tr>\n",
       "    <tr>\n",
       "      <th>4</th>\n",
       "      <td>18</td>\n",
       "      <td>17</td>\n",
       "      <td>19</td>\n",
       "      <td>10.340105</td>\n",
       "      <td>46.482489</td>\n",
       "      <td>16.779570</td>\n",
       "      <td>12.070123</td>\n",
       "      <td>10.967249</td>\n",
       "    </tr>\n",
       "    <tr>\n",
       "      <th>5</th>\n",
       "      <td>34</td>\n",
       "      <td>33</td>\n",
       "      <td>0</td>\n",
       "      <td>0.000008</td>\n",
       "      <td>65.182264</td>\n",
       "      <td>13.000000</td>\n",
       "      <td>10.500002</td>\n",
       "      <td>8.002392</td>\n",
       "    </tr>\n",
       "    <tr>\n",
       "      <th>6</th>\n",
       "      <td>54</td>\n",
       "      <td>55</td>\n",
       "      <td>8</td>\n",
       "      <td>12.054130</td>\n",
       "      <td>81.796130</td>\n",
       "      <td>11.284188</td>\n",
       "      <td>10.915263</td>\n",
       "      <td>3.720051</td>\n",
       "    </tr>\n",
       "    <tr>\n",
       "      <th>9</th>\n",
       "      <td>56</td>\n",
       "      <td>55</td>\n",
       "      <td>29</td>\n",
       "      <td>-0.000084</td>\n",
       "      <td>67.900005</td>\n",
       "      <td>11.923350</td>\n",
       "      <td>10.100000</td>\n",
       "      <td>3.954156</td>\n",
       "    </tr>\n",
       "    <tr>\n",
       "      <th>10</th>\n",
       "      <td>9</td>\n",
       "      <td>7</td>\n",
       "      <td>8</td>\n",
       "      <td>42.838569</td>\n",
       "      <td>72.994939</td>\n",
       "      <td>13.029297</td>\n",
       "      <td>12.043381</td>\n",
       "      <td>4.827565</td>\n",
       "    </tr>\n",
       "    <tr>\n",
       "      <th>12</th>\n",
       "      <td>64</td>\n",
       "      <td>5</td>\n",
       "      <td>65</td>\n",
       "      <td>9.175730</td>\n",
       "      <td>65.582299</td>\n",
       "      <td>15.149419</td>\n",
       "      <td>12.223966</td>\n",
       "      <td>7.753165</td>\n",
       "    </tr>\n",
       "    <tr>\n",
       "      <th>27</th>\n",
       "      <td>19</td>\n",
       "      <td>24</td>\n",
       "      <td>25</td>\n",
       "      <td>13.621239</td>\n",
       "      <td>26.314922</td>\n",
       "      <td>12.998276</td>\n",
       "      <td>7.232947</td>\n",
       "      <td>5.267303</td>\n",
       "    </tr>\n",
       "    <tr>\n",
       "      <th>30</th>\n",
       "      <td>44</td>\n",
       "      <td>46</td>\n",
       "      <td>45</td>\n",
       "      <td>39.069409</td>\n",
       "      <td>58.434038</td>\n",
       "      <td>8.823377</td>\n",
       "      <td>6.624612</td>\n",
       "      <td>3.415363</td>\n",
       "    </tr>\n",
       "    <tr>\n",
       "      <th>32</th>\n",
       "      <td>35</td>\n",
       "      <td>65</td>\n",
       "      <td>32</td>\n",
       "      <td>39.713300</td>\n",
       "      <td>97.397988</td>\n",
       "      <td>7.655728</td>\n",
       "      <td>6.723845</td>\n",
       "      <td>5.099804</td>\n",
       "    </tr>\n",
       "    <tr>\n",
       "      <th>35</th>\n",
       "      <td>23</td>\n",
       "      <td>11</td>\n",
       "      <td>27</td>\n",
       "      <td>10.801935</td>\n",
       "      <td>24.233191</td>\n",
       "      <td>14.125549</td>\n",
       "      <td>11.976915</td>\n",
       "      <td>3.272059</td>\n",
       "    </tr>\n",
       "    <tr>\n",
       "      <th>49</th>\n",
       "      <td>13</td>\n",
       "      <td>14</td>\n",
       "      <td>15</td>\n",
       "      <td>26.134057</td>\n",
       "      <td>42.821299</td>\n",
       "      <td>9.625026</td>\n",
       "      <td>5.808127</td>\n",
       "      <td>4.211714</td>\n",
       "    </tr>\n",
       "    <tr>\n",
       "      <th>50</th>\n",
       "      <td>38</td>\n",
       "      <td>64</td>\n",
       "      <td>37</td>\n",
       "      <td>12.544076</td>\n",
       "      <td>70.657197</td>\n",
       "      <td>14.120085</td>\n",
       "      <td>13.608667</td>\n",
       "      <td>4.899783</td>\n",
       "    </tr>\n",
       "    <tr>\n",
       "      <th>57</th>\n",
       "      <td>33</td>\n",
       "      <td>1</td>\n",
       "      <td>66</td>\n",
       "      <td>41.687931</td>\n",
       "      <td>58.250134</td>\n",
       "      <td>11.818354</td>\n",
       "      <td>10.400569</td>\n",
       "      <td>8.553598</td>\n",
       "    </tr>\n",
       "    <tr>\n",
       "      <th>61</th>\n",
       "      <td>62</td>\n",
       "      <td>16</td>\n",
       "      <td>10</td>\n",
       "      <td>32.790923</td>\n",
       "      <td>71.742832</td>\n",
       "      <td>7.608498</td>\n",
       "      <td>7.112581</td>\n",
       "      <td>4.891648</td>\n",
       "    </tr>\n",
       "    <tr>\n",
       "      <th>62</th>\n",
       "      <td>50</td>\n",
       "      <td>52</td>\n",
       "      <td>22</td>\n",
       "      <td>-0.681666</td>\n",
       "      <td>39.433255</td>\n",
       "      <td>21.546909</td>\n",
       "      <td>16.100000</td>\n",
       "      <td>7.359087</td>\n",
       "    </tr>\n",
       "    <tr>\n",
       "      <th>65</th>\n",
       "      <td>9</td>\n",
       "      <td>60</td>\n",
       "      <td>63</td>\n",
       "      <td>42.532140</td>\n",
       "      <td>50.219639</td>\n",
       "      <td>10.572774</td>\n",
       "      <td>6.551356</td>\n",
       "      <td>3.289266</td>\n",
       "    </tr>\n",
       "    <tr>\n",
       "      <th>69</th>\n",
       "      <td>4</td>\n",
       "      <td>5</td>\n",
       "      <td>3</td>\n",
       "      <td>27.373049</td>\n",
       "      <td>94.945790</td>\n",
       "      <td>11.899650</td>\n",
       "      <td>11.221200</td>\n",
       "      <td>10.447418</td>\n",
       "    </tr>\n",
       "    <tr>\n",
       "      <th>70</th>\n",
       "      <td>18</td>\n",
       "      <td>6</td>\n",
       "      <td>52</td>\n",
       "      <td>58.940947</td>\n",
       "      <td>69.460563</td>\n",
       "      <td>16.779570</td>\n",
       "      <td>15.091334</td>\n",
       "      <td>16.100000</td>\n",
       "    </tr>\n",
       "  </tbody>\n",
       "</table>\n",
       "</div>"
      ],
      "text/plain": [
       "        b0  b1  b2         θ1         θ2         d0         d1         d2\n",
       "nodeID                                                                   \n",
       "3       54  30  31  14.437885  60.251446  11.284188  10.105234   2.151480\n",
       "4       18  17  19  10.340105  46.482489  16.779570  12.070123  10.967249\n",
       "5       34  33   0   0.000008  65.182264  13.000000  10.500002   8.002392\n",
       "6       54  55   8  12.054130  81.796130  11.284188  10.915263   3.720051\n",
       "9       56  55  29  -0.000084  67.900005  11.923350  10.100000   3.954156\n",
       "10       9   7   8  42.838569  72.994939  13.029297  12.043381   4.827565\n",
       "12      64   5  65   9.175730  65.582299  15.149419  12.223966   7.753165\n",
       "27      19  24  25  13.621239  26.314922  12.998276   7.232947   5.267303\n",
       "30      44  46  45  39.069409  58.434038   8.823377   6.624612   3.415363\n",
       "32      35  65  32  39.713300  97.397988   7.655728   6.723845   5.099804\n",
       "35      23  11  27  10.801935  24.233191  14.125549  11.976915   3.272059\n",
       "49      13  14  15  26.134057  42.821299   9.625026   5.808127   4.211714\n",
       "50      38  64  37  12.544076  70.657197  14.120085  13.608667   4.899783\n",
       "57      33   1  66  41.687931  58.250134  11.818354  10.400569   8.553598\n",
       "61      62  16  10  32.790923  71.742832   7.608498   7.112581   4.891648\n",
       "62      50  52  22  -0.681666  39.433255  21.546909  16.100000   7.359087\n",
       "65       9  60  63  42.532140  50.219639  10.572774   6.551356   3.289266\n",
       "69       4   5   3  27.373049  94.945790  11.899650  11.221200  10.447418\n",
       "70      18   6  52  58.940947  69.460563  16.779570  15.091334  16.100000"
      ]
     },
     "execution_count": 10,
     "metadata": {},
     "output_type": "execute_result"
    }
   ],
   "source": [
    "from fundus_vessels_toolkit import VBranchGeoData\n",
    "from fundus_vessels_toolkit.utils.graph.measures import extract_bifurcations_parameters\n",
    "\n",
    "# Access the calibre and tangent data for each branch\n",
    "# Those metrics were previously computed when calling ``seg2graph(vessels)`` with parse_geometry=True\n",
    "geo_data = graph.geometric_data()\n",
    "calibres = geo_data.branch_data(VBranchGeoData.Fields.CALIBRES)\n",
    "tangents = geo_data.branch_data(VBranchGeoData.Fields.TANGENTS)\n",
    "extract_bifurcations_parameters(calibres, tangents, graph.branch_list, False)"
   ]
  }
 ],
 "metadata": {
  "kernelspec": {
   "display_name": "nnet",
   "language": "python",
   "name": "python3"
  },
  "language_info": {
   "codemirror_mode": {
    "name": "ipython",
    "version": 3
   },
   "file_extension": ".py",
   "mimetype": "text/x-python",
   "name": "python",
   "nbconvert_exporter": "python",
   "pygments_lexer": "ipython3",
   "version": "3.12.4"
  }
 },
 "nbformat": 4,
 "nbformat_minor": 2
}
