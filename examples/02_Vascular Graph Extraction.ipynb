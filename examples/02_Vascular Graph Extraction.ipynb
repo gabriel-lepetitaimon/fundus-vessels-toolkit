{
 "cells": [
  {
   "cell_type": "markdown",
   "id": "82243561-fe7b-47c5-a986-0e91732a452f",
   "metadata": {},
   "source": [
    "<p style='\n",
    "  color: #3b4045; \n",
    "  text-align: center;\n",
    "  font-weight: bold;\n",
    "  font-family: -apple-system,BlinkMacSystemFont, \"Segoe UI Adjusted\",\"Segoe UI\",\"Liberation Sans\",sans-serif;     font-size: 2.07692308rem; '> \n",
    "    Vascular Graph Extraction\n",
    "</p>\n"
   ]
  },
  {
   "cell_type": "code",
   "execution_count": 1,
   "id": "11004821-2c28-4b41-9247-e3889e8dc970",
   "metadata": {},
   "outputs": [
    {
     "data": {
      "application/vnd.jupyter.widget-view+json": {
       "model_id": "b7c987426c734ac2aad45fc44312d7fc",
       "version_major": 2,
       "version_minor": 0
      },
      "text/plain": [
       "HTML(value=\"<style>\\n        .cell-output-ipywidget-background {\\n                background: transparent !imp…"
      ]
     },
     "metadata": {},
     "output_type": "display_data"
    }
   ],
   "source": [
    "%load_ext autoreload\n",
    "%autoreload 2\n",
    "\n",
    "from copy import deepcopy\n",
    "\n",
    "import cv2\n",
    "import numpy as np\n",
    "from ipywidgets import GridspecLayout\n",
    "from jppype import View2D, imshow, sync_views, vscode_theme\n",
    "\n",
    "from fundus_vessels_toolkit.pipelines import FundusVesselSegToGraph\n",
    "from fundus_vessels_toolkit.segment import segment_vessels\n",
    "from fundus_vessels_toolkit.utils.image import load_img\n",
    "\n",
    "vscode_theme()"
   ]
  },
  {
   "cell_type": "code",
   "execution_count": 2,
   "id": "17b99ba6-f60b-453c-b631-19e4c0c88739",
   "metadata": {},
   "outputs": [],
   "source": [
    "# Path to the raw fundus image\n",
    "RAW_PATH = \"/home/gaby/These/Data/Fundus/Vessels/FIVES/test/downsampled-1024/1-images/50_A.jpg\"\n",
    "\n",
    "# Path to a vessel ground truth (for comparison purposes)\n",
    "VESSELS_PATH = \"/home/gaby/These/Data/Fundus/Vessels/FIVES/test/downsampled-1024/2-vessels/50_A.png\""
   ]
  },
  {
   "cell_type": "markdown",
   "id": "f6ca5d55-4e9a-4765-8c81-c8f5c35e2d79",
   "metadata": {
    "tags": []
   },
   "source": [
    "### Load the raw Image and the Vascular Segmentation\n"
   ]
  },
  {
   "cell_type": "markdown",
   "id": "59dc54da-7b9a-42ea-b478-8a025a0828e6",
   "metadata": {},
   "source": [
    "Load image and segmentation mask\n"
   ]
  },
  {
   "cell_type": "code",
   "execution_count": 3,
   "id": "c28d1c89-98c3-470f-be43-8be9c6897fab",
   "metadata": {},
   "outputs": [],
   "source": [
    "raw = load_img(RAW_PATH)\n",
    "true_vessels = load_img(VESSELS_PATH, binarize=True)"
   ]
  },
  {
   "cell_type": "markdown",
   "id": "4f9f89ce-027f-4a2a-828f-509a79783f15",
   "metadata": {},
   "source": [
    "Perform segmentation using a pretrained model\n"
   ]
  },
  {
   "cell_type": "code",
   "execution_count": 4,
   "id": "bda3a5cb-01ca-427e-88fe-c5493144fa82",
   "metadata": {},
   "outputs": [],
   "source": [
    "vessels = segment_vessels(raw)"
   ]
  },
  {
   "cell_type": "markdown",
   "id": "265d5e21-aa88-487f-8dd9-8bbef100d915",
   "metadata": {},
   "source": [
    "---\n"
   ]
  },
  {
   "cell_type": "markdown",
   "id": "3c054972-945d-4cff-a368-0f846c4832cd",
   "metadata": {
    "tags": []
   },
   "source": [
    "### Skeletonize and Extract Graph\n"
   ]
  },
  {
   "cell_type": "markdown",
   "id": "d68e0d8a-7721-475d-9fc6-561205a5d1d6",
   "metadata": {},
   "source": [
    "All the skeletonization and graph extraction pipeline is accessible through `RetinalVesselSeg2Graph` objects.\n",
    "\n",
    "This object tunes all the parameters of the pipeline according to a single parameter: the maximum vessel diameter.\n",
    "Apriori, a good approximation is a 80th of the image width (13px for a 1024x1024 px image).\n"
   ]
  },
  {
   "cell_type": "code",
   "execution_count": 5,
   "id": "b3e829d6-fdc7-4071-a1a2-ebe8d42483fd",
   "metadata": {},
   "outputs": [],
   "source": [
    "max_vessel_diameter = raw.shape[1] // 80\n",
    "seg2graph = FundusVesselSegToGraph(max_vessel_diameter)"
   ]
  },
  {
   "cell_type": "code",
   "execution_count": 6,
   "id": "78fa30ab",
   "metadata": {},
   "outputs": [
    {
     "data": {
      "text/plain": [
       "NodeMergeDistances(junction=12, termination=12, node=0)"
      ]
     },
     "execution_count": 6,
     "metadata": {},
     "output_type": "execute_result"
    }
   ],
   "source": [
    "seg2graph.nodes_merge_distance"
   ]
  },
  {
   "cell_type": "markdown",
   "id": "c45688cd-accd-46ce-8c87-990b17941376",
   "metadata": {},
   "source": [
    "To compute the graph extraction you simply need to call the object with a segmentation map:\n"
   ]
  },
  {
   "cell_type": "code",
   "execution_count": 7,
   "id": "9ca14866-c4c6-4012-b566-1a784a94f8b0",
   "metadata": {},
   "outputs": [],
   "source": [
    "skel = seg2graph.skeletonize(vessels)\n",
    "graph = seg2graph.skel_to_vgraph(skel, vessels)"
   ]
  },
  {
   "cell_type": "code",
   "execution_count": 8,
   "id": "10620c9a",
   "metadata": {},
   "outputs": [],
   "source": [
    "seg2graph.nodes_merge_distance.junction = 12\n",
    "seg2graph.nodes_merge_distance.termination = 0\n",
    "graph2 = seg2graph.simplify_vgraph(graph)"
   ]
  },
  {
   "cell_type": "markdown",
   "id": "0fe74ea2-e5c9-4049-ac1d-5f1e2c8bdd42",
   "metadata": {},
   "source": [
    "The returned object is a `VascularGraph` which expose all the properties of the extracted graph.\n",
    "\n",
    "- The list of branches : `vgrapp.branch_list`\n",
    "- The y and x position of the nodes: `vgraph.nodes_coord()`\n",
    "\n",
    "This object is also usefull to cast the graph to other representation. For example:\n",
    "\n",
    "- Node Adjacency Matrix: `vgraph.node_adjacency_matrix()`\n",
    "- Branch Adjacency Matrix: `vgraph.branch_adjacency_matrix()`\n"
   ]
  },
  {
   "cell_type": "markdown",
   "id": "8928c569-f687-4f1b-bee5-4bb7fd8b9cb0",
   "metadata": {
    "tags": []
   },
   "source": [
    "#### Display\n"
   ]
  },
  {
   "cell_type": "markdown",
   "id": "353258c7-5528-4f27-95b9-a94e4aac3f24",
   "metadata": {},
   "source": [
    "Lets compare the graph extracted on the predicted segmentation and on the ground truth segmentation side by side!\n",
    "\n",
    "_(The prediction is on the left, the ground truth on the right.)_\n"
   ]
  },
  {
   "cell_type": "code",
   "execution_count": 9,
   "id": "1cca0eb9-49f7-44ef-904f-ab18a908396b",
   "metadata": {
    "jupyter": {
     "source_hidden": true
    },
    "tags": []
   },
   "outputs": [
    {
     "data": {
      "application/vnd.jupyter.widget-view+json": {
       "model_id": "eb0d925a1d2d4271a9946dae2df35bd7",
       "version_major": 2,
       "version_minor": 0
      },
      "text/plain": [
       "GridspecLayout(children=(View2D(layout=Layout(grid_area='widget001'), linkedTransformGroup='3cc0f9fc925f41a0bf…"
      ]
     },
     "execution_count": 9,
     "metadata": {},
     "output_type": "execute_result"
    }
   ],
   "source": [
    "def create_view(vessels, vgraph, edge_map=True):\n",
    "    v = imshow(raw)\n",
    "    v.add_label(vessels, \"vessel\", \"white\", options={\"opacity\": 0.2})\n",
    "    v.add_label(skel, \"skel\", \"grey\", options={\"opacity\": 0.3})\n",
    "    v[\"vessel graph\"] = vgraph.jppype_layer(edge_map=edge_map, edge_labels=True)\n",
    "\n",
    "    return v\n",
    "\n",
    "\n",
    "grid = GridspecLayout(1, 2, height=\"650px\")\n",
    "grid[0, 0] = create_view(vessels, graph, True)\n",
    "grid[0, 1] = create_view(vessels, graph2, True)\n",
    "sync_views(grid[0, 0], grid[0, 1])\n",
    "\n",
    "grid"
   ]
  },
  {
   "cell_type": "markdown",
   "id": "7a1abeb3-d5e4-4528-95e8-1f15cedc7a59",
   "metadata": {},
   "source": [
    "---\n"
   ]
  },
  {
   "cell_type": "markdown",
   "id": "0b000c2a-8c85-429c-a52f-95dadcb00a67",
   "metadata": {
    "tags": []
   },
   "source": [
    "### Performing only the skeletonization\n"
   ]
  },
  {
   "cell_type": "markdown",
   "id": "c17ae2f5-368c-40de-bc01-7aa374b317db",
   "metadata": {},
   "source": [
    "The method `seg2graph()` actually perform the graph extraction in three steps:\n",
    "\n",
    "- Skeletonization (morphological reduction of the segmentation to the vessels centerline): `seg2graph.skeletonize(vessel_segmentation_map)`\n",
    "- Graph extraction (identification of branches and nodes in the vascular skeleton and connection parsing): `seg2graph.skel_to_vgraph(vessel_skeleton_map, vessel_segmentation_map)`.\n",
    "- Graph simplification (removal of small branches, merging close nodes...): `seg2graph.simplify_vgraph(vgraph)`\n",
    "\n",
    "Those method can be called individually, for example to get the result of the skeletonization step only.\n"
   ]
  },
  {
   "cell_type": "code",
   "execution_count": 10,
   "id": "ea253174-cbea-4ce6-a614-b0e875fbcad5",
   "metadata": {},
   "outputs": [],
   "source": [
    "skeleton = seg2graph.skeletonize(vessels)"
   ]
  },
  {
   "cell_type": "markdown",
   "id": "0bc478eb-51d7-4638-9cc1-1fe20401404f",
   "metadata": {},
   "source": [
    "You may notice some difference between the skeleton obtained through `seg2graph.skeletonize(vessels)` and by direct call of `seg2graph(vessels)`, because several topological simplification is performed on the latter (merging close nodes, removing small spurs or cycles...).\n"
   ]
  },
  {
   "cell_type": "code",
   "execution_count": 11,
   "id": "f0cd5e07-378a-442c-aab3-33eed70b745c",
   "metadata": {},
   "outputs": [
    {
     "data": {
      "application/vnd.jupyter.widget-view+json": {
       "model_id": "f829145dd1bd4337b532fbb1d4dd99a4",
       "version_major": 2,
       "version_minor": 0
      },
      "text/plain": [
       "View2D()"
      ]
     },
     "execution_count": 11,
     "metadata": {},
     "output_type": "execute_result"
    }
   ],
   "source": [
    "v = imshow(raw)\n",
    "v.add_label(vessels, \"vessel\", \"white\", options={\"opacity\": 0.2})\n",
    "v.add_label(skeleton, \"skeleton\", {2: \"white\", 1: \"yellow\", 3: \"red\", 4: \"purple\"})\n",
    "v"
   ]
  },
  {
   "cell_type": "markdown",
   "id": "eddca4a2-3d38-4a87-b79b-dd425e858d45",
   "metadata": {},
   "source": [
    "<br />\n",
    "<hr style=\"width:20%;text-align:center;\"/>\n",
    "\n",
    "Calling `seg2graph.seg2adjacency(vessel_map)` will return the adjacency matrix `adj` which store the graph links between branches (rows) and nodes (columns).\n",
    "\n",
    "If `return_label=True` this method also returns:\n",
    "\n",
    "- the label map of branches where the value of each pixel correspond to its branch id **+ 1** (or 0 if the pixel is not part of the skeleton);\n",
    "- the coordinates of each nodes as a tuple (y, x) where y and x are vectors of length `adj.shape[1]`.\n"
   ]
  },
  {
   "cell_type": "code",
   "execution_count": 12,
   "id": "f04f0585-803c-4685-93c9-e163f5152127",
   "metadata": {},
   "outputs": [
    {
     "ename": "AttributeError",
     "evalue": "'FundusVesselSegToGraph' object has no attribute 'seg2adjacency'",
     "output_type": "error",
     "traceback": [
      "\u001b[0;31m---------------------------------------------------------------------------\u001b[0m",
      "\u001b[0;31mAttributeError\u001b[0m                            Traceback (most recent call last)",
      "\u001b[1;32m/home/gaby/These/src/Fundus/fundus-vessels-toolkit/examples/02_Vascular Graph Extraction.ipynb Cell 28\u001b[0m line \u001b[0;36m1\n\u001b[0;32m----> <a href='vscode-notebook-cell://ssh-remote%2Bm3202-09.demdgi.polymtl.ca/home/gaby/These/src/Fundus/fundus-vessels-toolkit/examples/02_Vascular%20Graph%20Extraction.ipynb#X36sdnNjb2RlLXJlbW90ZQ%3D%3D?line=0'>1</a>\u001b[0m adj, branch_labels, node_yx \u001b[39m=\u001b[39m seg2graph\u001b[39m.\u001b[39;49mseg2adjacency(vessels, return_label\u001b[39m=\u001b[39m\u001b[39mTrue\u001b[39;00m)\n",
      "\u001b[0;31mAttributeError\u001b[0m: 'FundusVesselSegToGraph' object has no attribute 'seg2adjacency'"
     ]
    }
   ],
   "source": [
    "adj, branch_labels, node_yx = seg2graph.seg2adjacency(vessels, return_label=True)"
   ]
  },
  {
   "cell_type": "code",
   "execution_count": null,
   "id": "b4ee82f7-b5f0-4780-94a0-c86b95a76fe5",
   "metadata": {},
   "outputs": [],
   "source": [
    "v = imshow(raw)\n",
    "v.add_label(branch_labels)\n",
    "v"
   ]
  },
  {
   "cell_type": "code",
   "execution_count": null,
   "id": "1ea22752-bc4e-496c-8187-a4a7b85f59ed",
   "metadata": {},
   "outputs": [],
   "source": []
  }
 ],
 "metadata": {
  "kernelspec": {
   "display_name": "Python 3 (ipykernel)",
   "language": "python",
   "name": "python3"
  },
  "language_info": {
   "codemirror_mode": {
    "name": "ipython",
    "version": 3
   },
   "file_extension": ".py",
   "mimetype": "text/x-python",
   "name": "python",
   "nbconvert_exporter": "python",
   "pygments_lexer": "ipython3",
   "version": "3.12.4"
  }
 },
 "nbformat": 4,
 "nbformat_minor": 5
}
