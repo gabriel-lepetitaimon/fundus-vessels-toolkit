{
 "cells": [
  {
   "cell_type": "markdown",
   "id": "82243561-fe7b-47c5-a986-0e91732a452f",
   "metadata": {},
   "source": [
    "<p style='\n",
    "  color: #3b4045; \n",
    "  text-align: center;\n",
    "  font-weight: bold;\n",
    "  font-family: -apple-system,BlinkMacSystemFont, \"Segoe UI Adjusted\",\"Segoe UI\",\"Liberation Sans\",sans-serif;     font-size: 2.07692308rem; '> \n",
    "    Vascular Graph Matching and Comparison\n",
    "</p>"
   ]
  },
  {
   "cell_type": "code",
   "execution_count": 1,
   "id": "01a9d259-1f33-4efb-a07b-4dad8944fa7e",
   "metadata": {},
   "outputs": [],
   "source": [
    "%load_ext autoreload\n",
    "%autoreload 2"
   ]
  },
  {
   "cell_type": "code",
   "execution_count": 2,
   "id": "11004821-2c28-4b41-9247-e3889e8dc970",
   "metadata": {},
   "outputs": [],
   "source": [
    "from fundus_vessels_toolkit.seg2graph import RetinalVesselSeg2Graph"
   ]
  },
  {
   "cell_type": "code",
   "execution_count": 3,
   "id": "17b99ba6-f60b-453c-b631-19e4c0c88739",
   "metadata": {},
   "outputs": [],
   "source": [
    "# Path to the raw fundus image\n",
    "RAW_PATH = \"/home/gaby/These/Data/Fundus/Vessels/FIVES/test/downsampled-1024/1-images/110_G.jpg\"\n",
    "\n",
    "# Path to a vessel ground truth (for comparison purposes)\n",
    "VESSELS_PATH = \"/home/gaby/These/Data/Fundus/Vessels/FIVES/test/downsampled-1024/2-vessels/110_G.png\"\n"
   ]
  },
  {
   "cell_type": "markdown",
   "id": "f6ca5d55-4e9a-4765-8c81-c8f5c35e2d79",
   "metadata": {
    "tags": []
   },
   "source": [
    "### Load the raw Image and the Vascular Segmentation"
   ]
  },
  {
   "cell_type": "code",
   "execution_count": 4,
   "id": "cbf1bc26-3c97-4bbf-afb1-0ed8447d7d66",
   "metadata": {},
   "outputs": [],
   "source": [
    "import cv2\n",
    "\n",
    "def load_img(path, binarize=False):\n",
    "    img = cv2.imread(path)\n",
    "    img = img.astype(float)/255\n",
    "    return img.mean(axis=2)>.5 if binarize else img\n"
   ]
  },
  {
   "cell_type": "markdown",
   "id": "59dc54da-7b9a-42ea-b478-8a025a0828e6",
   "metadata": {},
   "source": [
    "Load image and segmentation mask"
   ]
  },
  {
   "cell_type": "code",
   "execution_count": 5,
   "id": "c28d1c89-98c3-470f-be43-8be9c6897fab",
   "metadata": {},
   "outputs": [],
   "source": [
    "raw = load_img(RAW_PATH)\n",
    "vessels = load_img(VESSELS_PATH, binarize=True)"
   ]
  },
  {
   "cell_type": "code",
   "execution_count": null,
   "id": "cbd8bbb7-6369-4832-9c8e-5180dddda595",
   "metadata": {},
   "outputs": [],
   "source": []
  },
  {
   "cell_type": "markdown",
   "id": "4f9f89ce-027f-4a2a-828f-509a79783f15",
   "metadata": {},
   "source": [
    "Perform segmentation using a pretrained model"
   ]
  },
  {
   "cell_type": "code",
   "execution_count": 6,
   "id": "bda3a5cb-01ca-427e-88fe-c5493144fa82",
   "metadata": {},
   "outputs": [
    {
     "ename": "ModuleNotFoundError",
     "evalue": "No module named 'timm.models.layers.activations'",
     "output_type": "error",
     "traceback": [
      "\u001b[0;31m---------------------------------------------------------------------------\u001b[0m",
      "\u001b[0;31mModuleNotFoundError\u001b[0m                       Traceback (most recent call last)",
      "Cell \u001b[0;32mIn [6], line 2\u001b[0m\n\u001b[1;32m      1\u001b[0m \u001b[38;5;28;01mfrom\u001b[39;00m \u001b[38;5;21;01mfundus_vessels_toolkit\u001b[39;00m\u001b[38;5;21;01m.\u001b[39;00m\u001b[38;5;21;01mmodels\u001b[39;00m \u001b[38;5;28;01mimport\u001b[39;00m segment\n\u001b[0;32m----> 2\u001b[0m vessels \u001b[38;5;241m=\u001b[39m \u001b[43msegment\u001b[49m\u001b[43m(\u001b[49m\u001b[43mraw\u001b[49m\u001b[43m)\u001b[49m\n",
      "File \u001b[0;32m~/These/src/Fundus/fundus-vessels-toolkit/lib/fundus_vessels_toolkit/models/segmentation.py:63\u001b[0m, in \u001b[0;36msegment\u001b[0;34m(x, model_name, roi_mask, device)\u001b[0m\n\u001b[1;32m     61\u001b[0m     model \u001b[38;5;241m=\u001b[39m _last_model\u001b[38;5;241m.\u001b[39mmodel\n\u001b[1;32m     62\u001b[0m \u001b[38;5;28;01melse\u001b[39;00m:\n\u001b[0;32m---> 63\u001b[0m     model \u001b[38;5;241m=\u001b[39m \u001b[43msegmentation_model\u001b[49m\u001b[43m(\u001b[49m\u001b[43mmodel_name\u001b[49m\u001b[43m)\u001b[49m\u001b[38;5;241m.\u001b[39mto(device\u001b[38;5;241m=\u001b[39mdevice)\n\u001b[1;32m     64\u001b[0m     _last_model \u001b[38;5;241m=\u001b[39m ModelCache(model_name, model)\n\u001b[1;32m     66\u001b[0m raw \u001b[38;5;241m=\u001b[39m x\n",
      "File \u001b[0;32m~/These/src/Fundus/fundus-vessels-toolkit/lib/fundus_vessels_toolkit/models/segmentation.py:114\u001b[0m, in \u001b[0;36msegmentation_model\u001b[0;34m(model_name)\u001b[0m\n\u001b[1;32m    112\u001b[0m \u001b[38;5;28;01mmatch\u001b[39;00m model_name:\n\u001b[1;32m    113\u001b[0m     \u001b[38;5;28;01mcase\u001b[39;00m SegmentModel\u001b[38;5;241m.\u001b[39mresnet34:\n\u001b[0;32m--> 114\u001b[0m         \u001b[38;5;28;01mimport\u001b[39;00m \u001b[38;5;21;01msegmentation_models_pytorch\u001b[39;00m \u001b[38;5;28;01mas\u001b[39;00m \u001b[38;5;21;01msmp\u001b[39;00m\n\u001b[1;32m    116\u001b[0m         model \u001b[38;5;241m=\u001b[39m smp\u001b[38;5;241m.\u001b[39mUnet(\u001b[38;5;124m\"\u001b[39m\u001b[38;5;124mresnet34\u001b[39m\u001b[38;5;124m\"\u001b[39m, classes\u001b[38;5;241m=\u001b[39m\u001b[38;5;241m2\u001b[39m, activation\u001b[38;5;241m=\u001b[39m\u001b[38;5;124m\"\u001b[39m\u001b[38;5;124msigmoid\u001b[39m\u001b[38;5;124m\"\u001b[39m)\n\u001b[1;32m    117\u001b[0m         url \u001b[38;5;241m=\u001b[39m \u001b[38;5;124m\"\u001b[39m\u001b[38;5;124mhttps://drive.google.com/uc?export=download&id=1IMW3m-tig0Hd0MW46Ula_K61N8I37nHS&confirm=t&uuid=45f08800-5c34-4dd4-98f7-6a9cc338d2e6\u001b[39m\u001b[38;5;124m\"\u001b[39m\n",
      "File \u001b[0;32m~/.conda/envs/nnet/lib/python3.10/site-packages/segmentation_models_pytorch/__init__.py:2\u001b[0m\n\u001b[1;32m      1\u001b[0m \u001b[38;5;28;01mfrom\u001b[39;00m \u001b[38;5;21;01m.\u001b[39;00m \u001b[38;5;28;01mimport\u001b[39;00m datasets\n\u001b[0;32m----> 2\u001b[0m \u001b[38;5;28;01mfrom\u001b[39;00m \u001b[38;5;21;01m.\u001b[39;00m \u001b[38;5;28;01mimport\u001b[39;00m encoders\n\u001b[1;32m      3\u001b[0m \u001b[38;5;28;01mfrom\u001b[39;00m \u001b[38;5;21;01m.\u001b[39;00m \u001b[38;5;28;01mimport\u001b[39;00m decoders\n\u001b[1;32m      4\u001b[0m \u001b[38;5;28;01mfrom\u001b[39;00m \u001b[38;5;21;01m.\u001b[39;00m \u001b[38;5;28;01mimport\u001b[39;00m losses\n",
      "File \u001b[0;32m~/.conda/envs/nnet/lib/python3.10/site-packages/segmentation_models_pytorch/encoders/__init__.py:15\u001b[0m\n\u001b[1;32m     13\u001b[0m \u001b[38;5;28;01mfrom\u001b[39;00m \u001b[38;5;21;01m.\u001b[39;00m\u001b[38;5;21;01mmobilenet\u001b[39;00m \u001b[38;5;28;01mimport\u001b[39;00m mobilenet_encoders\n\u001b[1;32m     14\u001b[0m \u001b[38;5;28;01mfrom\u001b[39;00m \u001b[38;5;21;01m.\u001b[39;00m\u001b[38;5;21;01mxception\u001b[39;00m \u001b[38;5;28;01mimport\u001b[39;00m xception_encoders\n\u001b[0;32m---> 15\u001b[0m \u001b[38;5;28;01mfrom\u001b[39;00m \u001b[38;5;21;01m.\u001b[39;00m\u001b[38;5;21;01mtimm_efficientnet\u001b[39;00m \u001b[38;5;28;01mimport\u001b[39;00m timm_efficientnet_encoders\n\u001b[1;32m     16\u001b[0m \u001b[38;5;28;01mfrom\u001b[39;00m \u001b[38;5;21;01m.\u001b[39;00m\u001b[38;5;21;01mtimm_resnest\u001b[39;00m \u001b[38;5;28;01mimport\u001b[39;00m timm_resnest_encoders\n\u001b[1;32m     17\u001b[0m \u001b[38;5;28;01mfrom\u001b[39;00m \u001b[38;5;21;01m.\u001b[39;00m\u001b[38;5;21;01mtimm_res2net\u001b[39;00m \u001b[38;5;28;01mimport\u001b[39;00m timm_res2net_encoders\n",
      "File \u001b[0;32m~/.conda/envs/nnet/lib/python3.10/site-packages/segmentation_models_pytorch/encoders/timm_efficientnet.py:8\u001b[0m\n\u001b[1;32m      6\u001b[0m \u001b[38;5;28;01mfrom\u001b[39;00m \u001b[38;5;21;01mtimm\u001b[39;00m\u001b[38;5;21;01m.\u001b[39;00m\u001b[38;5;21;01mmodels\u001b[39;00m\u001b[38;5;21;01m.\u001b[39;00m\u001b[38;5;21;01mefficientnet\u001b[39;00m \u001b[38;5;28;01mimport\u001b[39;00m EfficientNet\n\u001b[1;32m      7\u001b[0m \u001b[38;5;28;01mfrom\u001b[39;00m \u001b[38;5;21;01mtimm\u001b[39;00m\u001b[38;5;21;01m.\u001b[39;00m\u001b[38;5;21;01mmodels\u001b[39;00m\u001b[38;5;21;01m.\u001b[39;00m\u001b[38;5;21;01mefficientnet\u001b[39;00m \u001b[38;5;28;01mimport\u001b[39;00m decode_arch_def, round_channels, default_cfgs\n\u001b[0;32m----> 8\u001b[0m \u001b[38;5;28;01mfrom\u001b[39;00m \u001b[38;5;21;01mtimm\u001b[39;00m\u001b[38;5;21;01m.\u001b[39;00m\u001b[38;5;21;01mmodels\u001b[39;00m\u001b[38;5;21;01m.\u001b[39;00m\u001b[38;5;21;01mlayers\u001b[39;00m\u001b[38;5;21;01m.\u001b[39;00m\u001b[38;5;21;01mactivations\u001b[39;00m \u001b[38;5;28;01mimport\u001b[39;00m Swish\n\u001b[1;32m     10\u001b[0m \u001b[38;5;28;01mfrom\u001b[39;00m \u001b[38;5;21;01m.\u001b[39;00m\u001b[38;5;21;01m_base\u001b[39;00m \u001b[38;5;28;01mimport\u001b[39;00m EncoderMixin\n\u001b[1;32m     13\u001b[0m \u001b[38;5;28;01mdef\u001b[39;00m \u001b[38;5;21mget_efficientnet_kwargs\u001b[39m(channel_multiplier\u001b[38;5;241m=\u001b[39m\u001b[38;5;241m1.0\u001b[39m, depth_multiplier\u001b[38;5;241m=\u001b[39m\u001b[38;5;241m1.0\u001b[39m, drop_rate\u001b[38;5;241m=\u001b[39m\u001b[38;5;241m0.2\u001b[39m):\n",
      "\u001b[0;31mModuleNotFoundError\u001b[0m: No module named 'timm.models.layers.activations'"
     ]
    }
   ],
   "source": [
    "from fundus_vessels_toolkit.models import segment\n",
    "vessels = segment(raw)"
   ]
  },
  {
   "cell_type": "markdown",
   "id": "265d5e21-aa88-487f-8dd9-8bbef100d915",
   "metadata": {},
   "source": [
    "---"
   ]
  },
  {
   "cell_type": "markdown",
   "id": "3c054972-945d-4cff-a368-0f846c4832cd",
   "metadata": {
    "tags": []
   },
   "source": [
    "### Graph Matching"
   ]
  },
  {
   "cell_type": "markdown",
   "id": "a31e955b-19e7-48a2-b4f2-d46f60b367ae",
   "metadata": {},
   "source": [
    "First let's perform the graph extraction from both the ground-truth and the predicted segmentation."
   ]
  },
  {
   "cell_type": "code",
   "execution_count": 7,
   "id": "b3e829d6-fdc7-4071-a1a2-ebe8d42483fd",
   "metadata": {},
   "outputs": [],
   "source": [
    "max_vessel_diameter = raw.shape[1]//70\n",
    "seg2graph = RetinalVesselSeg2Graph(max_vessel_diameter)\n",
    "\n",
    "vgraph_pred = seg2graph(vessels)\n",
    "vgraph_true = seg2graph(vessels)"
   ]
  },
  {
   "cell_type": "markdown",
   "id": "5c869e4b-7881-4096-a5cd-c39a865b4266",
   "metadata": {},
   "source": [
    "Then we use `simple_graph_matching` to find a simple match between the nodes of the two graph simply based on their positions. (The algorithm will try to minimize the total distance between matched nodes)."
   ]
  },
  {
   "cell_type": "code",
   "execution_count": 8,
   "id": "9ca14866-c4c6-4012-b566-1a784a94f8b0",
   "metadata": {},
   "outputs": [
    {
     "data": {
      "text/plain": [
       "'133 / 133 nodes from the prediction segmentation were matched!'"
      ]
     },
     "execution_count": 8,
     "metadata": {},
     "output_type": "execute_result"
    }
   ],
   "source": [
    "from fundus_vessels_toolkit.vgraph.matching import simple_graph_matching\n",
    "\n",
    "D = max_vessel_diameter\n",
    "\n",
    "(argmatch_pred, argmatch_true), dist = simple_graph_matching(vgraph_pred.nodes_yx_coord, vgraph_true.nodes_yx_coord, \n",
    "                                                             max_matching_distance=D*7, min_matching_distance=D/2, density_sigma=D, \n",
    "                                                             return_distance=True)\n",
    "nmatch = len(argmatch_pred)\n",
    "\n",
    "vgraph_pred.shuffle_nodes(argmatch_pred)\n",
    "vgraph_true.shuffle_nodes(argmatch_true)\n",
    "\n",
    "f\"{nmatch} / {vgraph_true.nodes_count} nodes from the prediction segmentation were matched!\""
   ]
  },
  {
   "cell_type": "markdown",
   "id": "353258c7-5528-4f27-95b9-a94e4aac3f24",
   "metadata": {},
   "source": [
    "Lets have a look at the matched graph. (The paired nodes share the same color and ID on both image. Unpaired nodes appear in grey.)\n",
    "\n",
    "_(The prediction is on the left, the ground truth on the right.)_"
   ]
  },
  {
   "cell_type": "code",
   "execution_count": 9,
   "id": "7337f5f2-99e1-46c4-87db-ad0f4aba38a9",
   "metadata": {
    "tags": []
   },
   "outputs": [],
   "source": [
    "import numpy as np\n",
    "from jppype.view2d import imshow, View2D, sync_views\n",
    "from jppype.utilities.color import colormap_by_name\n",
    "from ipywidgets import GridspecLayout\n",
    "\n",
    "def create_view(vessels, vgraph, edge_map=False, edge_labels=False, node_labels=True):\n",
    "    v = View2D()\n",
    "    v.add_image(raw, 'raw')\n",
    "    v.add_label(vessels, 'vessel', 'white', options={'opacity': 0.2})\n",
    "    v['vessel graph'] = vgraph.jppype_layer(edge_map=edge_map, node_labels=node_labels, edge_labels=edge_labels)\n",
    "    v['vessel graph'].nodes_cmap = {None: colormap_by_name()} | {_: \"#444\" for _ in range(nmatch, vgraph.nodes_count+1)}\n",
    "    return v\n",
    "    "
   ]
  },
  {
   "cell_type": "code",
   "execution_count": 14,
   "id": "a8ea0fa3-7f78-41d0-9dcb-d4d362cbddd1",
   "metadata": {},
   "outputs": [
    {
     "data": {
      "application/vnd.jupyter.widget-view+json": {
       "model_id": "cd79ca4537214472a833058c3fa123ea",
       "version_major": 2,
       "version_minor": 0
      },
      "text/plain": [
       "View2D()"
      ]
     },
     "metadata": {},
     "output_type": "display_data"
    }
   ],
   "source": [
    "v = View2D()\n",
    "v.add_image(raw)"
   ]
  },
  {
   "cell_type": "code",
   "execution_count": 17,
   "id": "469b1134-3a98-482f-bcd2-d77e0f2ef3d9",
   "metadata": {},
   "outputs": [
    {
     "data": {
      "text/plain": [
       "(0, 0, 1e-08)"
      ]
     },
     "execution_count": 17,
     "metadata": {},
     "output_type": "execute_result"
    }
   ],
   "source": [
    "v._transform"
   ]
  },
  {
   "cell_type": "code",
   "execution_count": 18,
   "id": "514726f9-594d-4a93-81dc-1d1062ed0ba9",
   "metadata": {
    "tags": []
   },
   "outputs": [
    {
     "ename": "TypeError",
     "evalue": "super(type, obj): obj must be an instance or subtype of type",
     "output_type": "error",
     "traceback": [
      "\u001b[0;31m---------------------------------------------------------------------------\u001b[0m",
      "\u001b[0;31mTypeError\u001b[0m                                 Traceback (most recent call last)",
      "Cell \u001b[0;32mIn [18], line 2\u001b[0m\n\u001b[1;32m      1\u001b[0m grid \u001b[38;5;241m=\u001b[39m GridspecLayout(\u001b[38;5;241m1\u001b[39m,\u001b[38;5;241m2\u001b[39m, height\u001b[38;5;241m=\u001b[39m\u001b[38;5;124m'\u001b[39m\u001b[38;5;124m700px\u001b[39m\u001b[38;5;124m'\u001b[39m)\n\u001b[0;32m----> 2\u001b[0m grid[\u001b[38;5;241m0\u001b[39m,\u001b[38;5;241m0\u001b[39m] \u001b[38;5;241m=\u001b[39m \u001b[43mcreate_view\u001b[49m\u001b[43m(\u001b[49m\u001b[43mvessels\u001b[49m\u001b[43m,\u001b[49m\u001b[43m \u001b[49m\u001b[43mvgraph_pred\u001b[49m\u001b[43m,\u001b[49m\u001b[43m \u001b[49m\u001b[43medge_map\u001b[49m\u001b[38;5;241;43m=\u001b[39;49m\u001b[38;5;28;43;01mTrue\u001b[39;49;00m\u001b[43m,\u001b[49m\u001b[43m \u001b[49m\u001b[43mnode_labels\u001b[49m\u001b[38;5;241;43m=\u001b[39;49m\u001b[38;5;28;43;01mFalse\u001b[39;49;00m\u001b[43m)\u001b[49m\n\u001b[1;32m      3\u001b[0m grid[\u001b[38;5;241m0\u001b[39m,\u001b[38;5;241m1\u001b[39m] \u001b[38;5;241m=\u001b[39m create_view(vessels, vgraph_pred, edge_map\u001b[38;5;241m=\u001b[39m\u001b[38;5;28;01mTrue\u001b[39;00m)\n\u001b[1;32m      4\u001b[0m sync_views(grid[\u001b[38;5;241m0\u001b[39m,\u001b[38;5;241m0\u001b[39m], grid[\u001b[38;5;241m0\u001b[39m,\u001b[38;5;241m1\u001b[39m])\n",
      "Cell \u001b[0;32mIn [9], line 7\u001b[0m, in \u001b[0;36mcreate_view\u001b[0;34m(vessels, vgraph, edge_map, edge_labels, node_labels)\u001b[0m\n\u001b[1;32m      6\u001b[0m \u001b[38;5;28;01mdef\u001b[39;00m \u001b[38;5;21mcreate_view\u001b[39m(vessels, vgraph, edge_map\u001b[38;5;241m=\u001b[39m\u001b[38;5;28;01mFalse\u001b[39;00m, edge_labels\u001b[38;5;241m=\u001b[39m\u001b[38;5;28;01mFalse\u001b[39;00m, node_labels\u001b[38;5;241m=\u001b[39m\u001b[38;5;28;01mTrue\u001b[39;00m):\n\u001b[0;32m----> 7\u001b[0m     v \u001b[38;5;241m=\u001b[39m \u001b[43mView2D\u001b[49m\u001b[43m(\u001b[49m\u001b[43m)\u001b[49m\n\u001b[1;32m      8\u001b[0m     v\u001b[38;5;241m.\u001b[39madd_image(raw, \u001b[38;5;124m'\u001b[39m\u001b[38;5;124mraw\u001b[39m\u001b[38;5;124m'\u001b[39m)\n\u001b[1;32m      9\u001b[0m     v\u001b[38;5;241m.\u001b[39madd_label(vessels, \u001b[38;5;124m'\u001b[39m\u001b[38;5;124mvessel\u001b[39m\u001b[38;5;124m'\u001b[39m, \u001b[38;5;124m'\u001b[39m\u001b[38;5;124mwhite\u001b[39m\u001b[38;5;124m'\u001b[39m, options\u001b[38;5;241m=\u001b[39m{\u001b[38;5;124m'\u001b[39m\u001b[38;5;124mopacity\u001b[39m\u001b[38;5;124m'\u001b[39m: \u001b[38;5;241m0.2\u001b[39m})\n",
      "File \u001b[0;32m~/These/src/libs/jppype/jppype/view2d.py:38\u001b[0m, in \u001b[0;36mView2D.__init__\u001b[0;34m(self, layers)\u001b[0m\n\u001b[1;32m     37\u001b[0m \u001b[38;5;28;01mdef\u001b[39;00m \u001b[38;5;21m__init__\u001b[39m(\u001b[38;5;28mself\u001b[39m, layers: Iterator[Layer] \u001b[38;5;241m|\u001b[39m Layer \u001b[38;5;241m=\u001b[39m ()):\n\u001b[0;32m---> 38\u001b[0m     \u001b[38;5;28;43msuper\u001b[39;49m\u001b[43m(\u001b[49m\u001b[43mView2D\u001b[49m\u001b[43m,\u001b[49m\u001b[43m \u001b[49m\u001b[38;5;28;43mself\u001b[39;49m\u001b[43m)\u001b[49m\u001b[38;5;241m.\u001b[39m\u001b[38;5;21m__init__\u001b[39m()\n\u001b[1;32m     39\u001b[0m     \u001b[38;5;28mself\u001b[39m\u001b[38;5;241m.\u001b[39mon_click: EventsDispatcher[ClickEvent] \u001b[38;5;241m=\u001b[39m EventsDispatcher()\n\u001b[1;32m     40\u001b[0m     \u001b[38;5;28mself\u001b[39m\u001b[38;5;241m.\u001b[39m_transmit \u001b[38;5;241m=\u001b[39m FlagContext(\u001b[38;5;28mself\u001b[39m\u001b[38;5;241m.\u001b[39m__set_transmitting)\n",
      "\u001b[0;31mTypeError\u001b[0m: super(type, obj): obj must be an instance or subtype of type"
     ]
    }
   ],
   "source": [
    "grid = GridspecLayout(1,2, height='700px')\n",
    "grid[0,0] = create_view(vessels, vgraph_pred, edge_map=True, node_labels=False)\n",
    "grid[0,1] = create_view(vessels, vgraph_pred, edge_map=True)\n",
    "sync_views(grid[0,0], grid[0,1])\n",
    "grid"
   ]
  },
  {
   "cell_type": "markdown",
   "id": "1e49d211-fb2a-462c-becd-2314a47cb122",
   "metadata": {},
   "source": [
    "---"
   ]
  },
  {
   "cell_type": "markdown",
   "id": "bacbaa4e-b43d-4ae6-ad81-1403330c9b65",
   "metadata": {
    "tags": []
   },
   "source": [
    "### Graph Edit Distance\n",
    "(WIP)"
   ]
  },
  {
   "cell_type": "code",
   "execution_count": null,
   "id": "29145845-f7e3-4857-bea3-485f443a032d",
   "metadata": {},
   "outputs": [],
   "source": [
    "from fundus_vessels_toolkit.vgraph.matching import naive_edit_distance\n",
    "pred_diff, true_diff, (nmatch, pred_labels, true_labels) = naive_edit_distance(vgraph_pred, vgraph_true, max_matching_distance=D*7, min_matching_distance=D/2, density_matching_sigma=D, return_labels=True)\n",
    "true_n = vgraph_true.branches_count\n",
    "pred_n = vgraph_pred.branches_count\n",
    "\n",
    "precision = (true_n - true_diff) / true_n\n",
    "recall = (pred_n - pred_diff) / pred_n\n",
    "f1_topo = 2/(1/precision  + 1/recall)\n",
    "\n",
    "print(f\"{true_diff} / {true_n} target branches were missed in the prediction, {pred_diff} / {pred_n} predicted branches are not present in the target.\")\n",
    "print(f\"F1 Topo: {f1_topo:.3f}\")"
   ]
  },
  {
   "cell_type": "code",
   "execution_count": null,
   "id": "d37081fd-e46a-4a8e-ad01-7842cf7a655d",
   "metadata": {},
   "outputs": [],
   "source": [
    " grid = GridspecLayout(1,2, height='700px')\n",
    "grid[0,0] = create_view(vessels, vgraph_pred, node_labels=False)\n",
    "grid[0,1] = create_view(true_vessels, vgraph_true, node_labels=True)\n",
    "\n",
    "#grid[0,0]['vessel graph'].edges_cmap = {edge_id: \n",
    "#                {0: 'green', # False Positive\n",
    "#                 1: 'white', # True Positive\n",
    "#                 2: 'LightGreen', # Split edges\n",
    "#                 3: 'orange', # Fused edges\n",
    "#              }[c] for edge_id, c in enumerate(pred_labels)}\n",
    "\n",
    "#grid[0,1]['vessel graph'].edges_cmap = {edge_id: \n",
    "#                {0: 'red', # False Negative\n",
    "#                 1: 'white', # True Positive\n",
    "#                 2: 'LightGreen', # Fused edges\n",
    "#                 3: 'orange', # Split edges\n",
    "#              }[c] for edge_id, c in enumerate(true_labels)}\n",
    "\n",
    "grid[0,0]['vessel graph'].edges_cmap = {edge_id: \n",
    "                {0: 'white', # False Positive\n",
    "                 1: 'red', # True Positive\n",
    "              }[c] for edge_id, c in enumerate(pred_labels)}\n",
    "\n",
    "grid[0,1]['vessel graph'].edges_cmap = {edge_id: \n",
    "                {0: 'white', # False Positive\n",
    "                 1: 'red', # True Positive\n",
    "              }[c] for edge_id, c in enumerate(true_labels)}\n",
    "\n",
    "sync_views(grid[0,0], grid[0,1])\n",
    "grid"
   ]
  },
  {
   "cell_type": "code",
   "execution_count": null,
   "id": "7679a738-c87e-4cb7-8b8f-469934dd3278",
   "metadata": {},
   "outputs": [],
   "source": []
  },
  {
   "cell_type": "code",
   "execution_count": null,
   "id": "b991eb91-8317-4c65-bea6-e85c31df22ea",
   "metadata": {},
   "outputs": [],
   "source": []
  }
 ],
 "metadata": {
  "kernelspec": {
   "display_name": "Python 3 (ipykernel)",
   "language": "python",
   "name": "python3"
  },
  "language_info": {
   "codemirror_mode": {
    "name": "ipython",
    "version": 3
   },
   "file_extension": ".py",
   "mimetype": "text/x-python",
   "name": "python",
   "nbconvert_exporter": "python",
   "pygments_lexer": "ipython3",
   "version": "3.10.11"
  }
 },
 "nbformat": 4,
 "nbformat_minor": 5
}
