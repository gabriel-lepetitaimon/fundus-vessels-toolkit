{
 "cells": [
  {
   "cell_type": "markdown",
   "id": "82243561-fe7b-47c5-a986-0e91732a452f",
   "metadata": {},
   "source": [
    "<p style='\n",
    "  color: #3b4045; \n",
    "  text-align: center;\n",
    "  font-weight: bold;\n",
    "  font-family: -apple-system,BlinkMacSystemFont, \"Segoe UI Adjusted\",\"Segoe UI\",\"Liberation Sans\",sans-serif;     font-size: 2.07692308rem; '> \n",
    "    Vascular Graph Matching and Comparison\n",
    "</p>\n"
   ]
  },
  {
   "cell_type": "code",
   "execution_count": 1,
   "id": "01a9d259-1f33-4efb-a07b-4dad8944fa7e",
   "metadata": {},
   "outputs": [
    {
     "data": {
      "application/vnd.jupyter.widget-view+json": {
       "model_id": "aee83f4e8e2447b8aa26ef80ad7bcbf4",
       "version_major": 2,
       "version_minor": 0
      },
      "text/plain": [
       "HTML(value=\"<style>\\n        .cell-output-ipywidget-background {\\n                background: transparent !imp…"
      ]
     },
     "metadata": {},
     "output_type": "display_data"
    }
   ],
   "source": [
    "%load_ext autoreload\n",
    "%autoreload 2\n",
    "\n",
    "import cv2\n",
    "import numpy as np\n",
    "from ipywidgets import GridspecLayout\n",
    "from jppype import View2D, imshow, sync_views, vscode_theme\n",
    "from jppype.utilities.color import colormap_by_name\n",
    "\n",
    "from fundus_vessels_toolkit.pipelines import FundusVesselSegToGraph\n",
    "from fundus_vessels_toolkit.segment import segment_vessels\n",
    "from fundus_vessels_toolkit.utils.image import load_img\n",
    "from fundus_vessels_toolkit.vmatching import euclidien_node_matching\n",
    "\n",
    "vscode_theme()"
   ]
  },
  {
   "cell_type": "code",
   "execution_count": 2,
   "id": "17b99ba6-f60b-453c-b631-19e4c0c88739",
   "metadata": {},
   "outputs": [],
   "source": [
    "# Path to the raw fundus image\n",
    "RAW_PATH = \"/home/gaby/These/Data/Fundus/Vessels/FIVES/test/downsampled-1024/1-images/50_A.jpg\"\n",
    "\n",
    "# Path to a vessel ground truth (for comparison purposes)\n",
    "VESSELS_PATH = \"/home/gaby/These/Data/Fundus/Vessels/FIVES/test/downsampled-1024/2-vessels/50_A.png\""
   ]
  },
  {
   "cell_type": "markdown",
   "id": "f6ca5d55-4e9a-4765-8c81-c8f5c35e2d79",
   "metadata": {
    "tags": []
   },
   "source": [
    "### Load the raw Image and the Vascular Segmentation\n"
   ]
  },
  {
   "cell_type": "markdown",
   "id": "59dc54da-7b9a-42ea-b478-8a025a0828e6",
   "metadata": {},
   "source": [
    "Load image and segmentation mask\n"
   ]
  },
  {
   "cell_type": "code",
   "execution_count": 3,
   "id": "c28d1c89-98c3-470f-be43-8be9c6897fab",
   "metadata": {},
   "outputs": [],
   "source": [
    "raw = load_img(RAW_PATH)\n",
    "true_vessels = load_img(VESSELS_PATH, binarize=True)"
   ]
  },
  {
   "cell_type": "markdown",
   "id": "4f9f89ce-027f-4a2a-828f-509a79783f15",
   "metadata": {},
   "source": [
    "Perform segmentation using a pretrained model\n"
   ]
  },
  {
   "cell_type": "code",
   "execution_count": 4,
   "id": "bda3a5cb-01ca-427e-88fe-c5493144fa82",
   "metadata": {},
   "outputs": [],
   "source": [
    "vessels = segment_vessels(raw)"
   ]
  },
  {
   "cell_type": "markdown",
   "id": "265d5e21-aa88-487f-8dd9-8bbef100d915",
   "metadata": {},
   "source": [
    "---\n"
   ]
  },
  {
   "cell_type": "markdown",
   "id": "3c054972-945d-4cff-a368-0f846c4832cd",
   "metadata": {
    "tags": []
   },
   "source": [
    "### Graph Matching\n"
   ]
  },
  {
   "cell_type": "markdown",
   "id": "a31e955b-19e7-48a2-b4f2-d46f60b367ae",
   "metadata": {},
   "source": [
    "First let's perform the graph extraction from both the ground-truth and the predicted segmentation.\n"
   ]
  },
  {
   "cell_type": "code",
   "execution_count": 5,
   "id": "b3e829d6-fdc7-4071-a1a2-ebe8d42483fd",
   "metadata": {},
   "outputs": [],
   "source": [
    "max_vessel_diameter = raw.shape[1] // 70\n",
    "seg2graph = FundusVesselSegToGraph(max_vessel_diameter)\n",
    "\n",
    "vgraph_pred = seg2graph(vessels)\n",
    "vgraph_true = seg2graph(true_vessels)"
   ]
  },
  {
   "cell_type": "markdown",
   "id": "5c869e4b-7881-4096-a5cd-c39a865b4266",
   "metadata": {},
   "source": [
    "Then we use `euclidien_node_matching` to find a simple match between the nodes of the two graph simply based on their positions. (The algorithm will try to minimize the total distance between matched nodes).\n"
   ]
  },
  {
   "cell_type": "code",
   "execution_count": 6,
   "id": "9ca14866-c4c6-4012-b566-1a784a94f8b0",
   "metadata": {},
   "outputs": [
    {
     "data": {
      "text/plain": [
       "'103 / 110 nodes from the prediction segmentation were matched!'"
      ]
     },
     "execution_count": 6,
     "metadata": {},
     "output_type": "execute_result"
    }
   ],
   "source": [
    "D = max_vessel_diameter\n",
    "\n",
    "(argmatch_pred, argmatch_true), dist = euclidien_node_matching(\n",
    "    vgraph_pred.nodes_coord(),\n",
    "    vgraph_true.nodes_coord(),\n",
    "    max_matching_distance=D * 7,\n",
    "    min_distance=D / 2,\n",
    "    density_sigma=D,\n",
    "    return_distance=True,\n",
    ")\n",
    "nmatch = len(argmatch_pred)\n",
    "\n",
    "\n",
    "vgraph_pred.reindex_nodes(argmatch_pred, inverse_lookup=True)\n",
    "vgraph_true.reindex_nodes(argmatch_true, inverse_lookup=True)\n",
    "\n",
    "f\"{nmatch} / {vgraph_true.nodes_count} nodes from the prediction segmentation were matched!\""
   ]
  },
  {
   "cell_type": "markdown",
   "id": "353258c7-5528-4f27-95b9-a94e4aac3f24",
   "metadata": {},
   "source": [
    "Lets have a look at the matched graph. (The paired nodes share the same color and ID on both image. Unpaired nodes appear in grey.)\n",
    "\n",
    "_(The prediction is on the left, the ground truth on the right.)_\n"
   ]
  },
  {
   "cell_type": "code",
   "execution_count": 7,
   "id": "7337f5f2-99e1-46c4-87db-ad0f4aba38a9",
   "metadata": {
    "tags": []
   },
   "outputs": [],
   "source": [
    "def create_view(vessels, vgraph, edge_map=False, edge_labels=False, node_labels=True):\n",
    "    v = View2D()\n",
    "    v.add_image(raw, \"raw\")\n",
    "    v.add_label(vessels, \"vessel\", \"white\", options={\"opacity\": 0.2})\n",
    "    v[\"vessel graph\"] = vgraph.jppype_layer(edge_map=edge_map, node_labels=node_labels, edge_labels=edge_labels)\n",
    "    v[\"vessel graph\"].nodes_cmap = {None: colormap_by_name()} | {\n",
    "        _: \"#444\" for _ in range(nmatch, vgraph.nodes_count + 1)\n",
    "    }\n",
    "    return v"
   ]
  },
  {
   "cell_type": "code",
   "execution_count": 8,
   "id": "514726f9-594d-4a93-81dc-1d1062ed0ba9",
   "metadata": {
    "tags": []
   },
   "outputs": [
    {
     "data": {
      "application/vnd.jupyter.widget-view+json": {
       "model_id": "040186f8fb97424bb788b013594bb4b2",
       "version_major": 2,
       "version_minor": 0
      },
      "text/plain": [
       "GridspecLayout(children=(View2D(layout=Layout(grid_area='widget001'), linkedTransformGroup='86dc6cc363c246d1b6…"
      ]
     },
     "execution_count": 8,
     "metadata": {},
     "output_type": "execute_result"
    }
   ],
   "source": [
    "grid = GridspecLayout(1, 2, height=\"700px\")\n",
    "grid[0, 0] = create_view(vessels, vgraph_pred, edge_map=False, node_labels=True)\n",
    "grid[0, 1] = create_view(true_vessels, vgraph_true, edge_map=False, node_labels=True)\n",
    "sync_views(grid[0, 0], grid[0, 1])\n",
    "grid"
   ]
  },
  {
   "cell_type": "markdown",
   "id": "1e49d211-fb2a-462c-becd-2314a47cb122",
   "metadata": {},
   "source": [
    "---\n"
   ]
  },
  {
   "cell_type": "markdown",
   "id": "bacbaa4e-b43d-4ae6-ad81-1403330c9b65",
   "metadata": {
    "tags": []
   },
   "source": [
    "### Graph Edit Distance\n",
    "\n",
    "(WIP)\n"
   ]
  },
  {
   "cell_type": "code",
   "execution_count": 9,
   "id": "29145845-f7e3-4857-bea3-485f443a032d",
   "metadata": {},
   "outputs": [
    {
     "ename": "ValueError",
     "evalue": "numpy.dtype size changed, may indicate binary incompatibility. Expected 96 from C header, got 88 from PyObject",
     "output_type": "error",
     "traceback": [
      "\u001b[0;31m---------------------------------------------------------------------------\u001b[0m",
      "\u001b[0;31mValueError\u001b[0m                                Traceback (most recent call last)",
      "\u001b[1;32m/home/gaby/These/src/Fundus/fundus-vessels-toolkit/examples/03_Graph_Comparison.ipynb Cell 20\u001b[0m line \u001b[0;36m3\n\u001b[1;32m      <a href='vscode-notebook-cell:/home/gaby/These/src/Fundus/fundus-vessels-toolkit/examples/03_Graph_Comparison.ipynb#X25sZmlsZQ%3D%3D?line=0'>1</a>\u001b[0m \u001b[39mfrom\u001b[39;00m \u001b[39mfundus_vessels_toolkit\u001b[39;00m\u001b[39m.\u001b[39;00m\u001b[39mvmatching\u001b[39;00m \u001b[39mimport\u001b[39;00m naive_edit_distance\n\u001b[0;32m----> <a href='vscode-notebook-cell:/home/gaby/These/src/Fundus/fundus-vessels-toolkit/examples/03_Graph_Comparison.ipynb#X25sZmlsZQ%3D%3D?line=2'>3</a>\u001b[0m pred_diff, true_diff, (nmatch, pred_labels, true_labels) \u001b[39m=\u001b[39m naive_edit_distance(\n\u001b[1;32m      <a href='vscode-notebook-cell:/home/gaby/These/src/Fundus/fundus-vessels-toolkit/examples/03_Graph_Comparison.ipynb#X25sZmlsZQ%3D%3D?line=3'>4</a>\u001b[0m     vgraph_pred,\n\u001b[1;32m      <a href='vscode-notebook-cell:/home/gaby/These/src/Fundus/fundus-vessels-toolkit/examples/03_Graph_Comparison.ipynb#X25sZmlsZQ%3D%3D?line=4'>5</a>\u001b[0m     vgraph_true,\n\u001b[1;32m      <a href='vscode-notebook-cell:/home/gaby/These/src/Fundus/fundus-vessels-toolkit/examples/03_Graph_Comparison.ipynb#X25sZmlsZQ%3D%3D?line=5'>6</a>\u001b[0m     max_matching_distance\u001b[39m=\u001b[39;49mD \u001b[39m*\u001b[39;49m \u001b[39m7\u001b[39;49m,\n\u001b[1;32m      <a href='vscode-notebook-cell:/home/gaby/These/src/Fundus/fundus-vessels-toolkit/examples/03_Graph_Comparison.ipynb#X25sZmlsZQ%3D%3D?line=6'>7</a>\u001b[0m     min_distance\u001b[39m=\u001b[39;49mD \u001b[39m/\u001b[39;49m \u001b[39m2\u001b[39;49m,\n\u001b[1;32m      <a href='vscode-notebook-cell:/home/gaby/These/src/Fundus/fundus-vessels-toolkit/examples/03_Graph_Comparison.ipynb#X25sZmlsZQ%3D%3D?line=7'>8</a>\u001b[0m     density_matching_sigma\u001b[39m=\u001b[39;49mD,\n\u001b[1;32m      <a href='vscode-notebook-cell:/home/gaby/These/src/Fundus/fundus-vessels-toolkit/examples/03_Graph_Comparison.ipynb#X25sZmlsZQ%3D%3D?line=8'>9</a>\u001b[0m     return_labels\u001b[39m=\u001b[39;49m\u001b[39mTrue\u001b[39;49;00m,\n\u001b[1;32m     <a href='vscode-notebook-cell:/home/gaby/These/src/Fundus/fundus-vessels-toolkit/examples/03_Graph_Comparison.ipynb#X25sZmlsZQ%3D%3D?line=9'>10</a>\u001b[0m )\n\u001b[1;32m     <a href='vscode-notebook-cell:/home/gaby/These/src/Fundus/fundus-vessels-toolkit/examples/03_Graph_Comparison.ipynb#X25sZmlsZQ%3D%3D?line=10'>11</a>\u001b[0m true_n \u001b[39m=\u001b[39m vgraph_true\u001b[39m.\u001b[39mbranches_count\n\u001b[1;32m     <a href='vscode-notebook-cell:/home/gaby/These/src/Fundus/fundus-vessels-toolkit/examples/03_Graph_Comparison.ipynb#X25sZmlsZQ%3D%3D?line=11'>12</a>\u001b[0m pred_n \u001b[39m=\u001b[39m vgraph_pred\u001b[39m.\u001b[39mbranches_count\n",
      "File \u001b[0;32m~/These/src/Fundus/fundus-vessels-toolkit/src/fundus_vessels_toolkit/vmatching/matching.py:298\u001b[0m, in \u001b[0;36mnaive_edit_distance\u001b[0;34m(graph1, graph2, max_matching_distance, density_matching_sigma, min_distance, return_labels)\u001b[0m\n\u001b[1;32m    295\u001b[0m nb_match \u001b[39m=\u001b[39m \u001b[39mlen\u001b[39m(node_match_id1)\n\u001b[1;32m    297\u001b[0m \u001b[39m# Match edges\u001b[39;00m\n\u001b[0;32m--> 298\u001b[0m dist1, dist2, backtrack1, backtrack2 \u001b[39m=\u001b[39m shortest_unmatched_path(graph1\u001b[39m.\u001b[39;49mbranch_list, graph2\u001b[39m.\u001b[39;49mbranch_list, nb_match)\n\u001b[1;32m    300\u001b[0m branches_id1 \u001b[39m=\u001b[39m backtrack1[\u001b[39m.\u001b[39m\u001b[39m.\u001b[39m\u001b[39m.\u001b[39m, \u001b[39m0\u001b[39m]\n\u001b[1;32m    301\u001b[0m branches_id2 \u001b[39m=\u001b[39m backtrack2[\u001b[39m.\u001b[39m\u001b[39m.\u001b[39m\u001b[39m.\u001b[39m, \u001b[39m0\u001b[39m]\n",
      "File \u001b[0;32m~/These/src/Fundus/fundus-vessels-toolkit/src/fundus_vessels_toolkit/vmatching/matching.py:155\u001b[0m, in \u001b[0;36mshortest_unmatched_path\u001b[0;34m(adj_list1, adj_list2, matched_nodes)\u001b[0m\n\u001b[1;32m    127\u001b[0m \u001b[39mdef\u001b[39;00m \u001b[39mshortest_unmatched_path\u001b[39m(\n\u001b[1;32m    128\u001b[0m     adj_list1: np\u001b[39m.\u001b[39mndarray, adj_list2: np\u001b[39m.\u001b[39mndarray, matched_nodes: \u001b[39mint\u001b[39m\n\u001b[1;32m    129\u001b[0m ) \u001b[39m-\u001b[39m\u001b[39m>\u001b[39m Tuple[np\u001b[39m.\u001b[39mndarray, np\u001b[39m.\u001b[39mndarray, np\u001b[39m.\u001b[39mndarray, np\u001b[39m.\u001b[39mndarray]:\n\u001b[1;32m    130\u001b[0m \u001b[39m    \u001b[39m\u001b[39m\"\"\"Compute the shortest path connecting unmatched nodes to matched nodes, without using matched nodes.\u001b[39;00m\n\u001b[1;32m    131\u001b[0m \u001b[39m    This function perform the same operation individually on the two graphs.\u001b[39;00m\n\u001b[1;32m    132\u001b[0m \n\u001b[0;32m   (...)\u001b[0m\n\u001b[1;32m    153\u001b[0m \u001b[39m        - A backtrack matrix of shape ``(matched_nodes, N2, 2)`` with the index of the edge and the index of the next node on the path from the node N2 to the primary node N. If no path exists between the two nodes, the matrix contains (-1, -1).\u001b[39;00m\n\u001b[1;32m    154\u001b[0m \u001b[39m    \"\"\"\u001b[39;00m  \u001b[39m# noqa: E501\u001b[39;00m\n\u001b[0;32m--> 155\u001b[0m     \u001b[39mfrom\u001b[39;00m \u001b[39m.\u001b[39;00m\u001b[39medit_distance_cy\u001b[39;00m \u001b[39mimport\u001b[39;00m shortest_secondary_path \u001b[39mas\u001b[39;00m cython_shortest_path\n\u001b[1;32m    157\u001b[0m     primary_nodes \u001b[39m=\u001b[39m np\u001b[39m.\u001b[39marange(matched_nodes)\n\u001b[1;32m    159\u001b[0m     nb_node1 \u001b[39m=\u001b[39m adj_list1\u001b[39m.\u001b[39mmax() \u001b[39m+\u001b[39m \u001b[39m1\u001b[39m\n",
      "File \u001b[0;32msrc/fundus_vessels_toolkit/vgraph/edit_distance_cy.pyx:1\u001b[0m, in \u001b[0;36minit fundus_vessels_toolkit.vgraph.edit_distance_cy\u001b[0;34m()\u001b[0m\n",
      "\u001b[0;31mValueError\u001b[0m: numpy.dtype size changed, may indicate binary incompatibility. Expected 96 from C header, got 88 from PyObject"
     ]
    }
   ],
   "source": [
    "from fundus_vessels_toolkit.vmatching import naive_edit_distance\n",
    "\n",
    "pred_diff, true_diff, (nmatch, pred_labels, true_labels) = naive_edit_distance(\n",
    "    vgraph_pred,\n",
    "    vgraph_true,\n",
    "    max_matching_distance=D * 7,\n",
    "    min_distance=D / 2,\n",
    "    density_matching_sigma=D,\n",
    "    return_labels=True,\n",
    ")\n",
    "true_n = vgraph_true.branches_count\n",
    "pred_n = vgraph_pred.branches_count\n",
    "\n",
    "precision = (true_n - true_diff) / true_n\n",
    "recall = (pred_n - pred_diff) / pred_n\n",
    "f1_topo = 2 / (1 / precision + 1 / recall)\n",
    "\n",
    "print(\n",
    "    f\"{true_diff} / {true_n} target branches were missed in the prediction, {pred_diff} / {pred_n} predicted branches are not present in the target.\"\n",
    ")\n",
    "print(f\"F1 Topo: {f1_topo:.3f}\")"
   ]
  },
  {
   "cell_type": "code",
   "execution_count": null,
   "id": "d37081fd-e46a-4a8e-ad01-7842cf7a655d",
   "metadata": {},
   "outputs": [
    {
     "data": {
      "application/vnd.jupyter.widget-view+json": {
       "model_id": "ce5d5bdd5a494947bfdbb0c692408a54",
       "version_major": 2,
       "version_minor": 0
      },
      "text/plain": [
       "GridspecLayout(children=(View2D(layout=Layout(grid_area='widget001'), linkedTransformGroup='9711dc6875324a0daa…"
      ]
     },
     "execution_count": 10,
     "metadata": {},
     "output_type": "execute_result"
    }
   ],
   "source": [
    "grid = GridspecLayout(1, 2, height=\"700px\")\n",
    "grid[0, 0] = create_view(vessels, vgraph_pred, node_labels=False)\n",
    "grid[0, 1] = create_view(true_vessels, vgraph_true, node_labels=False)\n",
    "\n",
    "grid[0, 0][\"vessel graph\"].edges_cmap = {\n",
    "    edge_id: {\n",
    "        0: \"green\",  # False Positive\n",
    "        1: \"white\",  # True Positive\n",
    "        2: \"LightGreen\",  # Split edges\n",
    "        3: \"orange\",  # Fused edges\n",
    "    }[c]\n",
    "    for edge_id, c in enumerate(pred_labels)\n",
    "}\n",
    "\n",
    "grid[0, 1][\"vessel graph\"].edges_cmap = {\n",
    "    edge_id: {\n",
    "        0: \"red\",  # False Negative\n",
    "        1: \"white\",  # True Positive\n",
    "        2: \"LightGreen\",  # Fused edges\n",
    "        3: \"orange\",  # Split edges\n",
    "    }[c]\n",
    "    for edge_id, c in enumerate(true_labels)\n",
    "}\n",
    "\n",
    "grid[0, 0][\"vessel graph\"].edges_cmap = {\n",
    "    edge_id: {\n",
    "        0: \"white\",  # False Positive\n",
    "        1: \"red\",  # True Positive\n",
    "    }[c]\n",
    "    for edge_id, c in enumerate(pred_labels)\n",
    "}\n",
    "\n",
    "grid[0, 1][\"vessel graph\"].edges_cmap = {\n",
    "    edge_id: {\n",
    "        0: \"white\",  # False Positive\n",
    "        1: \"red\",  # True Positive\n",
    "    }[c]\n",
    "    for edge_id, c in enumerate(true_labels)\n",
    "}\n",
    "\n",
    "sync_views(grid[0, 0], grid[0, 1])\n",
    "grid"
   ]
  }
 ],
 "metadata": {
  "kernelspec": {
   "display_name": "Python 3 (ipykernel)",
   "language": "python",
   "name": "python3"
  },
  "language_info": {
   "codemirror_mode": {
    "name": "ipython",
    "version": 3
   },
   "file_extension": ".py",
   "mimetype": "text/x-python",
   "name": "python",
   "nbconvert_exporter": "python",
   "pygments_lexer": "ipython3",
   "version": "3.12.4"
  }
 },
 "nbformat": 4,
 "nbformat_minor": 5
}
