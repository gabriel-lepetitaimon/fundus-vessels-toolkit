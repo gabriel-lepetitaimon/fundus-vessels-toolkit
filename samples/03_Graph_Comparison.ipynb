{
 "cells": [
  {
   "cell_type": "markdown",
   "id": "82243561-fe7b-47c5-a986-0e91732a452f",
   "metadata": {},
   "source": [
    "<p style='\n",
    "  color: #3b4045; \n",
    "  text-align: center;\n",
    "  font-weight: bold;\n",
    "  font-family: -apple-system,BlinkMacSystemFont, \"Segoe UI Adjusted\",\"Segoe UI\",\"Liberation Sans\",sans-serif;     font-size: 2.07692308rem; '> \n",
    "    Vascular Graph Matching and Comparison\n",
    "</p>"
   ]
  },
  {
   "cell_type": "code",
   "execution_count": null,
   "id": "01a9d259-1f33-4efb-a07b-4dad8944fa7e",
   "metadata": {},
   "outputs": [],
   "source": [
    "%load_ext autoreload\n",
    "%autoreload 2"
   ]
  },
  {
   "cell_type": "code",
   "execution_count": null,
   "id": "11004821-2c28-4b41-9247-e3889e8dc970",
   "metadata": {},
   "outputs": [],
   "source": [
    "from fundus_vessels_toolkit.seg2graph import RetinalVesselSeg2Graph"
   ]
  },
  {
   "cell_type": "code",
   "execution_count": null,
   "id": "17b99ba6-f60b-453c-b631-19e4c0c88739",
   "metadata": {},
   "outputs": [],
   "source": [
    "# Path to the raw fundus image\n",
    "RAW_PATH = \"__Path/to/a/raw/image.jpg__\"\n",
    "\n",
    "# Path to a vessel ground truth (for comparison purposes)\n",
    "VESSELS_PATH = \"__Path/to/a/vessels/segmentation.png__\"\n"
   ]
  },
  {
   "cell_type": "markdown",
   "id": "f6ca5d55-4e9a-4765-8c81-c8f5c35e2d79",
   "metadata": {
    "tags": []
   },
   "source": [
    "### Load the raw Image and the Vascular Segmentation"
   ]
  },
  {
   "cell_type": "code",
   "execution_count": null,
   "id": "cbf1bc26-3c97-4bbf-afb1-0ed8447d7d66",
   "metadata": {},
   "outputs": [],
   "source": [
    "import cv2\n",
    "\n",
    "def load_img(path, binarize=False):\n",
    "    img = cv2.imread(path)\n",
    "    img = img.astype(float)/255\n",
    "    return img.mean(axis=2)>.5 if binarize else img\n"
   ]
  },
  {
   "cell_type": "markdown",
   "id": "59dc54da-7b9a-42ea-b478-8a025a0828e6",
   "metadata": {},
   "source": [
    "Load image and segmentation mask"
   ]
  },
  {
   "cell_type": "code",
   "execution_count": null,
   "id": "c28d1c89-98c3-470f-be43-8be9c6897fab",
   "metadata": {},
   "outputs": [],
   "source": [
    "raw = load_img(RAW_PATH)\n",
    "true_vessels = load_img(VESSELS_PATH, binarize=True)"
   ]
  },
  {
   "cell_type": "code",
   "execution_count": null,
   "id": "cbd8bbb7-6369-4832-9c8e-5180dddda595",
   "metadata": {},
   "outputs": [],
   "source": []
  },
  {
   "cell_type": "markdown",
   "id": "4f9f89ce-027f-4a2a-828f-509a79783f15",
   "metadata": {},
   "source": [
    "Perform segmentation using a pretrained model"
   ]
  },
  {
   "cell_type": "code",
   "execution_count": null,
   "id": "bda3a5cb-01ca-427e-88fe-c5493144fa82",
   "metadata": {},
   "outputs": [],
   "source": [
    "from fundus_vessels_toolkit.models import segment\n",
    "vessels = segment(raw)"
   ]
  },
  {
   "cell_type": "markdown",
   "id": "265d5e21-aa88-487f-8dd9-8bbef100d915",
   "metadata": {},
   "source": [
    "---"
   ]
  },
  {
   "cell_type": "markdown",
   "id": "3c054972-945d-4cff-a368-0f846c4832cd",
   "metadata": {
    "tags": []
   },
   "source": [
    "### Graph Matching"
   ]
  },
  {
   "cell_type": "markdown",
   "id": "a31e955b-19e7-48a2-b4f2-d46f60b367ae",
   "metadata": {},
   "source": [
    "First let's perform the graph extraction from both the ground-truth and the predicted segmentation."
   ]
  },
  {
   "cell_type": "code",
   "execution_count": null,
   "id": "b3e829d6-fdc7-4071-a1a2-ebe8d42483fd",
   "metadata": {},
   "outputs": [],
   "source": [
    "max_vessel_diameter = raw.shape[1]//70\n",
    "seg2graph = RetinalVesselSeg2Graph(max_vessel_diameter)\n",
    "\n",
    "vgraph_pred = seg2graph(vessels)\n",
    "vgraph_true = seg2graph(true_vessels)"
   ]
  },
  {
   "cell_type": "markdown",
   "id": "5c869e4b-7881-4096-a5cd-c39a865b4266",
   "metadata": {},
   "source": [
    "Then we use `simple_graph_matching` to find a simple match between the nodes of the two graph simply based on their positions. (The algorithm will try to minimize the total distance between matched nodes)."
   ]
  },
  {
   "cell_type": "code",
   "execution_count": null,
   "id": "9ca14866-c4c6-4012-b566-1a784a94f8b0",
   "metadata": {},
   "outputs": [],
   "source": [
    "from fundus_vessels_toolkit.vgraph.matching import simple_graph_matching\n",
    "\n",
    "D = max_vessel_diameter\n",
    "\n",
    "(argmatch_pred, argmatch_true), dist = simple_graph_matching(vgraph_pred.nodes_yx_coord, vgraph_true.nodes_yx_coord, \n",
    "                                                             max_matching_distance=D*7, min_matching_distance=D/2, density_sigma=D, \n",
    "                                                             return_distance=True)\n",
    "nmatch = len(argmatch_pred)\n",
    "\n",
    "vgraph_pred.shuffle_nodes(argmatch_pred)\n",
    "vgraph_true.shuffle_nodes(argmatch_true)\n",
    "\n",
    "f\"{nmatch} / {vgraph_true.nodes_count} nodes from the prediction segmentation were matched!\""
   ]
  },
  {
   "cell_type": "markdown",
   "id": "353258c7-5528-4f27-95b9-a94e4aac3f24",
   "metadata": {},
   "source": [
    "Lets have a look at the matched graph. (The paired nodes share the same color and ID on both image. Unpaired nodes appear in grey.)\n",
    "\n",
    "_(The prediction is on the left, the ground truth on the right.)_"
   ]
  },
  {
   "cell_type": "code",
   "execution_count": null,
   "id": "7337f5f2-99e1-46c4-87db-ad0f4aba38a9",
   "metadata": {
    "jupyter": {
     "source_hidden": true
    },
    "tags": []
   },
   "outputs": [],
   "source": [
    "import numpy as np\n",
    "from jppype.view2d import imshow, View2D, sync_views\n",
    "from jppype.layers_2d import LayerLabel\n",
    "from jppype.utilities.color import colormap_by_name\n",
    "from ipywidgets import GridspecLayout\n",
    "\n",
    "def create_view(vessels, vgraph, edge_map=False, edge_labels=False, node_labels=True):\n",
    "    v = View2D()\n",
    "    v.add_image(raw, 'raw')\n",
    "    v.add_label(vessels, 'vessel', 'white', options={'opacity': 0.2})\n",
    "    v['vessel graph'] = vgraph.jppype_layer(edge_map=edge_map, node_labels=node_labels, edge_labels=edge_labels)\n",
    "    v['vessel graph'].nodes_cmap = {None: colormap_by_name()} | {_: \"#444\" for _ in range(nmatch, vgraph.nodes_count+1)}\n",
    "    return v\n",
    "    "
   ]
  },
  {
   "cell_type": "code",
   "execution_count": null,
   "id": "514726f9-594d-4a93-81dc-1d1062ed0ba9",
   "metadata": {
    "jupyter": {
     "source_hidden": true
    },
    "tags": []
   },
   "outputs": [],
   "source": [
    "grid = GridspecLayout(1,2, height='700px')\n",
    "grid[0,0] = create_view(vessels, vgraph_pred)\n",
    "grid[0,1] = create_view(vessels, vgraph_pred, edge_map=True)\n",
    "sync_views(grid[0,0], grid[0,1])\n",
    "grid"
   ]
  },
  {
   "cell_type": "markdown",
   "id": "1e49d211-fb2a-462c-becd-2314a47cb122",
   "metadata": {},
   "source": [
    "---"
   ]
  },
  {
   "cell_type": "markdown",
   "id": "bacbaa4e-b43d-4ae6-ad81-1403330c9b65",
   "metadata": {
    "tags": []
   },
   "source": [
    "### Graph Edit Distance\n",
    "(WIP)"
   ]
  },
  {
   "cell_type": "code",
   "execution_count": null,
   "id": "29145845-f7e3-4857-bea3-485f443a032d",
   "metadata": {},
   "outputs": [],
   "source": [
    "from fundus_vessels_toolkit.vgraph.matching import naive_edit_distance\n",
    "pred_diff, true_diff, (nmatch, pred_labels, true_labels) = naive_edit_distance(vgraph_pred, vgraph_true, max_matching_distance=D*7, min_matching_distance=D/2, density_matching_sigma=D, return_labels=True)\n",
    "true_n = vgraph_true.branches_count\n",
    "pred_n = vgraph_pred.branches_count\n",
    "\n",
    "precision = (true_n - true_diff) / true_n\n",
    "recall = (pred_n - pred_diff) / pred_n\n",
    "f1_topo = 2/(1/precision  + 1/recall)\n",
    "\n",
    "print(f\"{true_diff} / {true_n} target branches were missed in the prediction, {pred_diff} / {pred_n} predicted branches are not present in the target.\")\n",
    "print(f\"F1 Topo: {f1_topo:.3f}\")"
   ]
  },
  {
   "cell_type": "code",
   "execution_count": null,
   "id": "d37081fd-e46a-4a8e-ad01-7842cf7a655d",
   "metadata": {
    "jupyter": {
     "source_hidden": true
    }
   },
   "outputs": [],
   "source": [
    " grid = GridspecLayout(1,2, height='700px')\n",
    "grid[0,0] = create_view(vessels, vgraph_pred, node_labels=True)\n",
    "grid[0,1] = create_view(true_vessels, vgraph_true, node_labels=True)\n",
    "\n",
    "#grid[0,0]['vessel graph'].edges_cmap = {edge_id: \n",
    "#                {0: 'green', # False Positive\n",
    "#                 1: 'white', # True Positive\n",
    "#                 2: 'LightGreen', # Split edges\n",
    "#                 3: 'orange', # Fused edges\n",
    "#              }[c] for edge_id, c in enumerate(pred_labels)}\n",
    "\n",
    "#grid[0,1]['vessel graph'].edges_cmap = {edge_id: \n",
    "#                {0: 'red', # False Negative\n",
    "#                 1: 'white', # True Positive\n",
    "#                 2: 'LightGreen', # Fused edges\n",
    "#                 3: 'orange', # Split edges\n",
    "#              }[c] for edge_id, c in enumerate(true_labels)}\n",
    "\n",
    "grid[0,0]['vessel graph'].edges_cmap = {edge_id: \n",
    "                {0: 'white', # False Positive\n",
    "                 1: 'red', # True Positive\n",
    "              }[c] for edge_id, c in enumerate(pred_labels)}\n",
    "\n",
    "grid[0,1]['vessel graph'].edges_cmap = {edge_id: \n",
    "                {0: 'white', # False Positive\n",
    "                 1: 'red', # True Positive\n",
    "              }[c] for edge_id, c in enumerate(true_labels)}\n",
    "\n",
    "sync_views(grid[0,0], grid[0,1])\n",
    "grid"
   ]
  }
 ],
 "metadata": {
  "kernelspec": {
   "display_name": "Python 3 (ipykernel)",
   "language": "python",
   "name": "python3"
  },
  "language_info": {
   "codemirror_mode": {
    "name": "ipython",
    "version": 3
   },
   "file_extension": ".py",
   "mimetype": "text/x-python",
   "name": "python",
   "nbconvert_exporter": "python",
   "pygments_lexer": "ipython3",
   "version": "3.10.11"
  }
 },
 "nbformat": 4,
 "nbformat_minor": 5
}
